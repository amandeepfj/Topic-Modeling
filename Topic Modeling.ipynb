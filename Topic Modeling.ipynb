{
 "cells": [
  {
   "cell_type": "markdown",
   "metadata": {},
   "source": [
    "## Topic Modeling"
   ]
  },
  {
   "cell_type": "code",
   "execution_count": 36,
   "metadata": {},
   "outputs": [],
   "source": [
    "import nltk\n",
    "from nltk.corpus import stopwords \n",
    "from nltk.stem.wordnet import WordNetLemmatizer\n",
    "import string\n",
    "import gensim\n",
    "from gensim import corpora, models\n",
    "import pandas as pd\n",
    "from nltk import FreqDist\n",
    "import re\n",
    "import spacy\n",
    "\n",
    "# libraries for visualization\n",
    "import pyLDAvis\n",
    "import pyLDAvis.gensim\n",
    "import matplotlib.pyplot as plt\n",
    "import seaborn as sns\n",
    "%matplotlib inline"
   ]
  },
  {
   "cell_type": "code",
   "execution_count": 12,
   "metadata": {},
   "outputs": [
    {
     "name": "stderr",
     "output_type": "stream",
     "text": [
      "[nltk_data] Downloading package stopwords to\n",
      "[nltk_data]     C:\\Users\\Amandeep\\AppData\\Roaming\\nltk_data...\n",
      "[nltk_data]   Unzipping corpora\\stopwords.zip.\n"
     ]
    },
    {
     "data": {
      "text/plain": [
       "True"
      ]
     },
     "execution_count": 12,
     "metadata": {},
     "output_type": "execute_result"
    }
   ],
   "source": [
    "nltk.download('stopwords')\n",
    "!python -m spacy download en # one time run"
   ]
  },
  {
   "cell_type": "code",
   "execution_count": 7,
   "metadata": {},
   "outputs": [
    {
     "data": {
      "text/html": [
       "<div>\n",
       "<style scoped>\n",
       "    .dataframe tbody tr th:only-of-type {\n",
       "        vertical-align: middle;\n",
       "    }\n",
       "\n",
       "    .dataframe tbody tr th {\n",
       "        vertical-align: top;\n",
       "    }\n",
       "\n",
       "    .dataframe thead th {\n",
       "        text-align: right;\n",
       "    }\n",
       "</style>\n",
       "<table border=\"1\" class=\"dataframe\">\n",
       "  <thead>\n",
       "    <tr style=\"text-align: right;\">\n",
       "      <th></th>\n",
       "      <th>asin</th>\n",
       "      <th>helpful</th>\n",
       "      <th>overall</th>\n",
       "      <th>reviewText</th>\n",
       "      <th>reviewTime</th>\n",
       "      <th>reviewerID</th>\n",
       "      <th>reviewerName</th>\n",
       "      <th>summary</th>\n",
       "      <th>unixReviewTime</th>\n",
       "    </tr>\n",
       "  </thead>\n",
       "  <tbody>\n",
       "    <tr>\n",
       "      <th>0</th>\n",
       "      <td>B00002243X</td>\n",
       "      <td>[4, 4]</td>\n",
       "      <td>5</td>\n",
       "      <td>I needed a set of jumper cables for my new car...</td>\n",
       "      <td>08 17, 2011</td>\n",
       "      <td>A3F73SC1LY51OO</td>\n",
       "      <td>Alan Montgomery</td>\n",
       "      <td>Work Well - Should Have Bought Longer Ones</td>\n",
       "      <td>1313539200</td>\n",
       "    </tr>\n",
       "    <tr>\n",
       "      <th>1</th>\n",
       "      <td>B00002243X</td>\n",
       "      <td>[1, 1]</td>\n",
       "      <td>4</td>\n",
       "      <td>These long cables work fine for my truck, but ...</td>\n",
       "      <td>09 4, 2011</td>\n",
       "      <td>A20S66SKYXULG2</td>\n",
       "      <td>alphonse</td>\n",
       "      <td>Okay long cables</td>\n",
       "      <td>1315094400</td>\n",
       "    </tr>\n",
       "    <tr>\n",
       "      <th>2</th>\n",
       "      <td>B00002243X</td>\n",
       "      <td>[0, 0]</td>\n",
       "      <td>5</td>\n",
       "      <td>Can't comment much on these since they have no...</td>\n",
       "      <td>07 25, 2013</td>\n",
       "      <td>A2I8LFSN2IS5EO</td>\n",
       "      <td>Chris</td>\n",
       "      <td>Looks and feels heavy Duty</td>\n",
       "      <td>1374710400</td>\n",
       "    </tr>\n",
       "    <tr>\n",
       "      <th>3</th>\n",
       "      <td>B00002243X</td>\n",
       "      <td>[19, 19]</td>\n",
       "      <td>5</td>\n",
       "      <td>I absolutley love Amazon!!!  For the price of ...</td>\n",
       "      <td>12 21, 2010</td>\n",
       "      <td>A3GT2EWQSO45ZG</td>\n",
       "      <td>DeusEx</td>\n",
       "      <td>Excellent choice for Jumper Cables!!!</td>\n",
       "      <td>1292889600</td>\n",
       "    </tr>\n",
       "    <tr>\n",
       "      <th>4</th>\n",
       "      <td>B00002243X</td>\n",
       "      <td>[0, 0]</td>\n",
       "      <td>5</td>\n",
       "      <td>I purchased the 12' feet long cable set and th...</td>\n",
       "      <td>07 4, 2012</td>\n",
       "      <td>A3ESWJPAVRPWB4</td>\n",
       "      <td>E. Hernandez</td>\n",
       "      <td>Excellent, High Quality Starter Cables</td>\n",
       "      <td>1341360000</td>\n",
       "    </tr>\n",
       "  </tbody>\n",
       "</table>\n",
       "</div>"
      ],
      "text/plain": [
       "         asin   helpful  overall  \\\n",
       "0  B00002243X    [4, 4]        5   \n",
       "1  B00002243X    [1, 1]        4   \n",
       "2  B00002243X    [0, 0]        5   \n",
       "3  B00002243X  [19, 19]        5   \n",
       "4  B00002243X    [0, 0]        5   \n",
       "\n",
       "                                          reviewText   reviewTime  \\\n",
       "0  I needed a set of jumper cables for my new car...  08 17, 2011   \n",
       "1  These long cables work fine for my truck, but ...   09 4, 2011   \n",
       "2  Can't comment much on these since they have no...  07 25, 2013   \n",
       "3  I absolutley love Amazon!!!  For the price of ...  12 21, 2010   \n",
       "4  I purchased the 12' feet long cable set and th...   07 4, 2012   \n",
       "\n",
       "       reviewerID     reviewerName  \\\n",
       "0  A3F73SC1LY51OO  Alan Montgomery   \n",
       "1  A20S66SKYXULG2         alphonse   \n",
       "2  A2I8LFSN2IS5EO            Chris   \n",
       "3  A3GT2EWQSO45ZG           DeusEx   \n",
       "4  A3ESWJPAVRPWB4     E. Hernandez   \n",
       "\n",
       "                                      summary  unixReviewTime  \n",
       "0  Work Well - Should Have Bought Longer Ones      1313539200  \n",
       "1                            Okay long cables      1315094400  \n",
       "2                  Looks and feels heavy Duty      1374710400  \n",
       "3       Excellent choice for Jumper Cables!!!      1292889600  \n",
       "4      Excellent, High Quality Starter Cables      1341360000  "
      ]
     },
     "execution_count": 7,
     "metadata": {},
     "output_type": "execute_result"
    }
   ],
   "source": [
    "# change this to reviews.csv\n",
    "reviews_df = pd.read_json('Automotive_5.json', lines=True)\n",
    "reviews_body = \"reviewText\" # set review text column name here \n",
    "reviews_df.head()"
   ]
  },
  {
   "cell_type": "code",
   "execution_count": 21,
   "metadata": {},
   "outputs": [],
   "source": [
    "# function to plot most frequent terms\n",
    "def freq_words(x, terms = 30):\n",
    "    all_words = ' '.join([text for text in x])\n",
    "    all_words = all_words.split()\n",
    "\n",
    "    fdist = FreqDist(all_words)\n",
    "    words_df = pd.DataFrame({'word':list(fdist.keys()), 'count':list(fdist.values())})\n",
    "\n",
    "    # selecting top 20 most frequent words\n",
    "    d = words_df.nlargest(columns=\"count\", n = terms) \n",
    "    plt.figure(figsize=(20,5))\n",
    "    ax = sns.barplot(data=d, x= \"word\", y = \"count\")\n",
    "    ax.set(ylabel = 'Count')\n",
    "    plt.show()"
   ]
  },
  {
   "cell_type": "code",
   "execution_count": 16,
   "metadata": {},
   "outputs": [],
   "source": [
    "# remove unwanted characters, numbers and symbols\n",
    "reviews_df[reviews_body] = reviews_df[reviews_body].str.replace(\"[^a-zA-Z#]\", \" \")\n",
    "stop_words = stopwords.words('english')\n",
    "\n",
    "# function to remove stopwords\n",
    "def remove_stopwords(rev):\n",
    "    rev_new = \" \".join([i for i in rev if i not in stop_words])\n",
    "    return rev_new\n",
    "\n",
    "# remove short words (length < 3)\n",
    "reviews_df[reviews_body] = reviews_df[reviews_body].apply(lambda x: ' '.join([w for w in x.split() if len(w)>2]))\n",
    "\n",
    "# remove stopwords from the text\n",
    "reviews = [remove_stopwords(r.split()) for r in reviews_df[reviews_body]]\n",
    "\n",
    "# make entire text lowercase\n",
    "reviews = [r.lower() for r in reviews]"
   ]
  },
  {
   "cell_type": "code",
   "execution_count": 24,
   "metadata": {},
   "outputs": [
    {
     "data": {
      "image/png": "[encoded data removed]",
      "text/plain": [
       "<Figure size 1440x360 with 1 Axes>"
      ]
     },
     "metadata": {
      "needs_background": "light"
     },
     "output_type": "display_data"
    }
   ],
   "source": [
    "freq_words(reviews, 35)"
   ]
  },
  {
   "cell_type": "code",
   "execution_count": 33,
   "metadata": {},
   "outputs": [],
   "source": [
    "from spacy.lang.en import English\n",
    "\n",
    "nlp = spacy.load('en', disable=['parser', 'ner'])\n",
    "\n",
    "def lemmatization(texts, tags=['NOUN', 'ADJ']): # filter noun and adjective\n",
    "    output = []\n",
    "    for sent in texts:\n",
    "        doc = nlp(\" \".join(sent)) \n",
    "        output.append([token.lemma_ for token in doc if token.pos_ in tags])\n",
    "    return output"
   ]
  },
  {
   "cell_type": "code",
   "execution_count": 41,
   "metadata": {},
   "outputs": [
    {
     "name": "stdout",
     "output_type": "stream",
     "text": [
      "['these', 'long', 'cables', 'work', 'fine', 'truck', 'quality', 'seems', 'little', 'shabby', 'side', 'for', 'money', 'expecting', 'dollar', 'snap', 'jumper', 'cables', 'seem', 'like', 'would', 'see', 'chinese', 'knock', 'shop', 'like', 'harbor', 'freight', 'bucks']\n",
      "['long', 'cable', 'fine', 'truck', 'quality', 'little', 'shabby', 'side', 'money', 'dollar', 'snap', 'jumper', 'cable', 'chinese', 'shop', 'harbor', 'freight', 'buck']\n"
     ]
    }
   ],
   "source": [
    "tokenized_reviews = pd.Series(reviews).apply(lambda x: x.split())\n",
    "print(tokenized_reviews[1])\n",
    "\n",
    "reviews_2 = lemmatization(tokenized_reviews)\n",
    "print(reviews_2[1]) # print lemmatized review"
   ]
  },
  {
   "cell_type": "code",
   "execution_count": 42,
   "metadata": {},
   "outputs": [
    {
     "ename": "NameError",
     "evalue": "name 'df' is not defined",
     "output_type": "error",
     "traceback": [
      "\u001b[1;31m---------------------------------------------------------------------------\u001b[0m",
      "\u001b[1;31mNameError\u001b[0m                                 Traceback (most recent call last)",
      "\u001b[1;32m<ipython-input-42-21b153a820ea>\u001b[0m in \u001b[0;36m<module>\u001b[1;34m\u001b[0m\n\u001b[0;32m      3\u001b[0m     \u001b[0mreviews_3\u001b[0m\u001b[1;33m.\u001b[0m\u001b[0mappend\u001b[0m\u001b[1;33m(\u001b[0m\u001b[1;34m' '\u001b[0m\u001b[1;33m.\u001b[0m\u001b[0mjoin\u001b[0m\u001b[1;33m(\u001b[0m\u001b[0mreviews_2\u001b[0m\u001b[1;33m[\u001b[0m\u001b[0mi\u001b[0m\u001b[1;33m]\u001b[0m\u001b[1;33m)\u001b[0m\u001b[1;33m)\u001b[0m\u001b[1;33m\u001b[0m\u001b[1;33m\u001b[0m\u001b[0m\n\u001b[0;32m      4\u001b[0m \u001b[1;33m\u001b[0m\u001b[0m\n\u001b[1;32m----> 5\u001b[1;33m \u001b[0mdf\u001b[0m\u001b[1;33m[\u001b[0m\u001b[1;34m'reviews'\u001b[0m\u001b[1;33m]\u001b[0m \u001b[1;33m=\u001b[0m \u001b[0mreviews_3\u001b[0m\u001b[1;33m\u001b[0m\u001b[1;33m\u001b[0m\u001b[0m\n\u001b[0m\u001b[0;32m      6\u001b[0m \u001b[1;33m\u001b[0m\u001b[0m\n\u001b[0;32m      7\u001b[0m \u001b[0mfreq_words\u001b[0m\u001b[1;33m(\u001b[0m\u001b[0mdf\u001b[0m\u001b[1;33m[\u001b[0m\u001b[1;34m'reviews'\u001b[0m\u001b[1;33m]\u001b[0m\u001b[1;33m,\u001b[0m \u001b[1;36m35\u001b[0m\u001b[1;33m)\u001b[0m\u001b[1;33m\u001b[0m\u001b[1;33m\u001b[0m\u001b[0m\n",
      "\u001b[1;31mNameError\u001b[0m: name 'df' is not defined"
     ]
    }
   ],
   "source": [
    "reviews_3 = []\n",
    "for i in range(len(reviews_2)):\n",
    "    reviews_3.append(' '.join(reviews_2[i]))"
   ]
  },
  {
   "cell_type": "code",
   "execution_count": 43,
   "metadata": {},
   "outputs": [
    {
     "data": {
      "image/png": "[encoded data removed]",
      "text/plain": [
       "<Figure size 1440x360 with 1 Axes>"
      ]
     },
     "metadata": {
      "needs_background": "light"
     },
     "output_type": "display_data"
    }
   ],
   "source": [
    "reviews_df['reviews'] = reviews_3\n",
    "\n",
    "freq_words(reviews_df['reviews'], 35)"
   ]
  },
  {
   "cell_type": "markdown",
   "metadata": {},
   "source": [
    "## Building Model"
   ]
  },
  {
   "cell_type": "code",
   "execution_count": 45,
   "metadata": {},
   "outputs": [],
   "source": [
    "dictionary = corpora.Dictionary(reviews_2)\n",
    "doc_term_matrix = [dictionary.doc2bow(rev) for rev in reviews_2]\n",
    "# Creating the object for LDA model using gensim library\n",
    "LDA = gensim.models.ldamodel.LdaModel\n",
    "\n",
    "# Build LDA model\n",
    "lda_model = LDA(corpus = doc_term_matrix, id2word = dictionary, num_topics = 7, random_state = 44,\n",
    "                chunksize = 1000, passes = 50)"
   ]
  },
  {
   "cell_type": "code",
   "execution_count": 46,
   "metadata": {},
   "outputs": [
    {
     "data": {
      "text/plain": [
       "[(0,\n",
       "  '0.026*\"good\" + 0.020*\"price\" + 0.019*\"product\" + 0.015*\"quality\" + 0.015*\"great\" + 0.012*\"device\" + 0.011*\"time\" + 0.011*\"filter\" + 0.011*\"work\" + 0.011*\"amazon\"'),\n",
       " (1,\n",
       "  '0.046*\"car\" + 0.033*\"product\" + 0.024*\"towel\" + 0.018*\"good\" + 0.017*\"clean\" + 0.017*\"wax\" + 0.013*\"use\" + 0.013*\"great\" + 0.012*\"water\" + 0.012*\"time\"'),\n",
       " (2,\n",
       "  '0.037*\"wiper\" + 0.036*\"blade\" + 0.023*\"hose\" + 0.021*\"water\" + 0.016*\"windshield\" + 0.011*\"rain\" + 0.010*\"side\" + 0.010*\"snow\" + 0.009*\"tank\" + 0.009*\"old\"'),\n",
       " (3,\n",
       "  '0.051*\"light\" + 0.025*\"bulb\" + 0.020*\"oil\" + 0.017*\"bright\" + 0.015*\"car\" + 0.010*\"white\" + 0.008*\"engine\" + 0.008*\"color\" + 0.008*\"inverter\" + 0.007*\"change\"'),\n",
       " (4,\n",
       "  '0.043*\"battery\" + 0.028*\"car\" + 0.020*\"power\" + 0.019*\"light\" + 0.016*\"unit\" + 0.014*\"plug\" + 0.013*\"charger\" + 0.011*\"phone\" + 0.010*\"charge\" + 0.010*\"code\"'),\n",
       " (5,\n",
       "  '0.059*\"tire\" + 0.023*\"trailer\" + 0.023*\"gauge\" + 0.020*\"pressure\" + 0.017*\"jack\" + 0.014*\"easy\" + 0.013*\"use\" + 0.009*\"air\" + 0.008*\"valve\" + 0.008*\"tender\"'),\n",
       " (6,\n",
       "  '0.022*\"leather\" + 0.012*\"easy\" + 0.011*\"great\" + 0.011*\"plastic\" + 0.011*\"seat\" + 0.010*\"wheel\" + 0.010*\"door\" + 0.010*\"small\" + 0.010*\"tape\" + 0.009*\"good\"')]"
      ]
     },
     "execution_count": 46,
     "metadata": {},
     "output_type": "execute_result"
    }
   ],
   "source": [
    "lda_model.print_topics()"
   ]
  },
  {
   "cell_type": "code",
   "execution_count": 47,
   "metadata": {},
   "outputs": [
    {
     "name": "stderr",
     "output_type": "stream",
     "text": [
      "c:\\users\\amandeep\\appdata\\local\\programs\\python\\python37\\lib\\site-packages\\pyLDAvis\\_prepare.py:257: FutureWarning: Sorting because non-concatenation axis is not aligned. A future version\n",
      "of pandas will change to not sort by default.\n",
      "\n",
      "To accept the future behavior, pass 'sort=False'.\n",
      "\n",
      "To retain the current behavior and silence the warning, pass 'sort=True'.\n",
      "\n",
      "  return pd.concat([default_term_info] + list(topic_dfs))\n"
     ]
    },
    {
     "data": {
      "text/html": [
       "\n",
       "<link rel=\"stylesheet\" type=\"text/css\" href=\"https://cdn.rawgit.com/bmabey/pyLDAvis/files/ldavis.v1.0.0.css\">\n",
       "\n",
       "\n",
       "<div id=\"ldavis_el3873627808608813201087928809\"></div>\n",
       "<script type=\"text/javascript\">\n",
       "\n",
       "var ldavis_el3873627808608813201087928809_data = {\"mdsDat\": {\"x\": [0.06376095484760823, 0.024026847333839155, -0.1583121307594051, 0.1996062140239109, 0.15936828502623387, -0.04469661502470739, -0.2437535554474791], \"y\": [-0.14577599363127489, -0.0877562574859252, -0.12481752530565728, 0.06567424887847569, 0.17274636247608516, -0.0992827726522576, 0.21921193772055358], \"topics\": [1, 2, 3, 4, 5, 6, 7], \"cluster\": [1, 1, 1, 1, 1, 1, 1], \"Freq\": [20.683101654052734, 20.586767196655273, 13.838908195495605, 13.621993064880371, 13.103201866149902, 10.884293556213379, 7.281735420227051]}, \"tinfo\": {\"Category\": [\"Default\", \"Default\", \"Default\", \"Default\", \"Default\", \"Default\", \"Default\", \"Default\", \"Default\", \"Default\", \"Default\", \"Default\", \"Default\", \"Default\", \"Default\", \"Default\", \"Default\", \"Default\", \"Default\", \"Default\", \"Default\", \"Default\", \"Default\", \"Default\", \"Default\", \"Default\", \"Default\", \"Default\", \"Default\", \"Default\", \"Topic1\", \"Topic1\", \"Topic1\", \"Topic1\", \"Topic1\", \"Topic1\", \"Topic1\", \"Topic1\", \"Topic1\", \"Topic1\", \"Topic1\", \"Topic1\", \"Topic1\", \"Topic1\", \"Topic1\", \"Topic1\", \"Topic1\", \"Topic1\", \"Topic1\", \"Topic1\", \"Topic1\", \"Topic1\", \"Topic1\", \"Topic1\", \"Topic1\", \"Topic1\", \"Topic1\", \"Topic1\", \"Topic1\", \"Topic1\", \"Topic1\", \"Topic1\", \"Topic1\", \"Topic1\", \"Topic1\", \"Topic1\", \"Topic1\", \"Topic1\", \"Topic1\", \"Topic1\", \"Topic1\", \"Topic1\", \"Topic1\", \"Topic1\", \"Topic1\", \"Topic1\", \"Topic1\", \"Topic1\", \"Topic1\", \"Topic1\", \"Topic1\", \"Topic1\", \"Topic1\", \"Topic1\", \"Topic1\", \"Topic1\", \"Topic1\", \"Topic2\", \"Topic2\", \"Topic2\", \"Topic2\", \"Topic2\", \"Topic2\", \"Topic2\", \"Topic2\", \"Topic2\", \"Topic2\", \"Topic2\", \"Topic2\", \"Topic2\", \"Topic2\", \"Topic2\", \"Topic2\", \"Topic2\", \"Topic2\", \"Topic2\", \"Topic2\", \"Topic2\", \"Topic2\", \"Topic2\", \"Topic2\", \"Topic2\", \"Topic2\", \"Topic2\", \"Topic2\", \"Topic2\", \"Topic2\", \"Topic2\", \"Topic2\", \"Topic2\", \"Topic2\", \"Topic2\", \"Topic2\", \"Topic2\", \"Topic2\", \"Topic2\", \"Topic2\", \"Topic2\", \"Topic2\", \"Topic2\", \"Topic2\", \"Topic2\", \"Topic2\", \"Topic2\", \"Topic2\", \"Topic2\", \"Topic2\", \"Topic2\", \"Topic2\", \"Topic2\", \"Topic2\", \"Topic2\", \"Topic2\", \"Topic2\", \"Topic2\", \"Topic2\", \"Topic2\", \"Topic2\", \"Topic2\", \"Topic2\", \"Topic2\", \"Topic3\", \"Topic3\", \"Topic3\", \"Topic3\", \"Topic3\", \"Topic3\", \"Topic3\", \"Topic3\", \"Topic3\", \"Topic3\", \"Topic3\", \"Topic3\", \"Topic3\", \"Topic3\", \"Topic3\", \"Topic3\", \"Topic3\", \"Topic3\", \"Topic3\", \"Topic3\", \"Topic3\", \"Topic3\", \"Topic3\", \"Topic3\", \"Topic3\", \"Topic3\", \"Topic3\", \"Topic3\", \"Topic3\", \"Topic3\", \"Topic3\", \"Topic3\", \"Topic3\", \"Topic3\", \"Topic3\", \"Topic3\", \"Topic3\", \"Topic3\", \"Topic3\", \"Topic3\", \"Topic3\", \"Topic3\", \"Topic3\", \"Topic3\", \"Topic3\", \"Topic3\", \"Topic3\", \"Topic3\", \"Topic3\", \"Topic3\", \"Topic3\", \"Topic3\", \"Topic3\", \"Topic3\", \"Topic3\", \"Topic3\", \"Topic3\", \"Topic3\", \"Topic3\", \"Topic3\", \"Topic3\", \"Topic3\", \"Topic3\", \"Topic3\", \"Topic4\", \"Topic4\", \"Topic4\", \"Topic4\", \"Topic4\", \"Topic4\", \"Topic4\", \"Topic4\", \"Topic4\", \"Topic4\", \"Topic4\", \"Topic4\", \"Topic4\", \"Topic4\", \"Topic4\", \"Topic4\", \"Topic4\", \"Topic4\", \"Topic4\", \"Topic4\", \"Topic4\", \"Topic4\", \"Topic4\", \"Topic4\", \"Topic4\", \"Topic4\", \"Topic4\", \"Topic4\", \"Topic4\", \"Topic4\", \"Topic4\", \"Topic4\", \"Topic4\", \"Topic4\", \"Topic4\", \"Topic4\", \"Topic4\", \"Topic4\", \"Topic4\", \"Topic4\", \"Topic4\", \"Topic4\", \"Topic4\", \"Topic4\", \"Topic4\", \"Topic4\", \"Topic4\", \"Topic4\", \"Topic4\", \"Topic4\", \"Topic4\", \"Topic4\", \"Topic4\", \"Topic4\", \"Topic4\", \"Topic4\", \"Topic4\", \"Topic4\", \"Topic4\", \"Topic5\", \"Topic5\", \"Topic5\", \"Topic5\", \"Topic5\", \"Topic5\", \"Topic5\", \"Topic5\", \"Topic5\", \"Topic5\", \"Topic5\", \"Topic5\", \"Topic5\", \"Topic5\", \"Topic5\", \"Topic5\", \"Topic5\", \"Topic5\", \"Topic5\", \"Topic5\", \"Topic5\", \"Topic5\", \"Topic5\", \"Topic5\", \"Topic5\", \"Topic5\", \"Topic5\", \"Topic5\", \"Topic5\", \"Topic5\", \"Topic5\", \"Topic5\", \"Topic5\", \"Topic5\", \"Topic5\", \"Topic5\", \"Topic5\", \"Topic5\", \"Topic5\", \"Topic5\", \"Topic5\", \"Topic5\", \"Topic5\", \"Topic5\", \"Topic5\", \"Topic5\", \"Topic5\", \"Topic5\", \"Topic5\", \"Topic5\", \"Topic6\", \"Topic6\", \"Topic6\", \"Topic6\", \"Topic6\", \"Topic6\", \"Topic6\", \"Topic6\", \"Topic6\", \"Topic6\", \"Topic6\", \"Topic6\", \"Topic6\", \"Topic6\", \"Topic6\", \"Topic6\", \"Topic6\", \"Topic6\", \"Topic6\", \"Topic6\", \"Topic6\", \"Topic6\", \"Topic6\", \"Topic6\", \"Topic6\", \"Topic6\", \"Topic6\", \"Topic6\", \"Topic6\", \"Topic6\", \"Topic6\", \"Topic6\", \"Topic6\", \"Topic6\", \"Topic6\", \"Topic6\", \"Topic6\", \"Topic6\", \"Topic6\", \"Topic6\", \"Topic6\", \"Topic6\", \"Topic6\", \"Topic6\", \"Topic6\", \"Topic6\", \"Topic6\", \"Topic6\", \"Topic6\", \"Topic6\", \"Topic6\", \"Topic6\", \"Topic6\", \"Topic6\", \"Topic6\", \"Topic6\", \"Topic6\", \"Topic7\", \"Topic7\", \"Topic7\", \"Topic7\", \"Topic7\", \"Topic7\", \"Topic7\", \"Topic7\", \"Topic7\", \"Topic7\", \"Topic7\", \"Topic7\", \"Topic7\", \"Topic7\", \"Topic7\", \"Topic7\", \"Topic7\", \"Topic7\", \"Topic7\", \"Topic7\", \"Topic7\", \"Topic7\", \"Topic7\", \"Topic7\", \"Topic7\", \"Topic7\", \"Topic7\", \"Topic7\", \"Topic7\", \"Topic7\", \"Topic7\", \"Topic7\", \"Topic7\", \"Topic7\", \"Topic7\", \"Topic7\", \"Topic7\", \"Topic7\", \"Topic7\", \"Topic7\", \"Topic7\", \"Topic7\", \"Topic7\", \"Topic7\", \"Topic7\", \"Topic7\", \"Topic7\", \"Topic7\", \"Topic7\", \"Topic7\", \"Topic7\", \"Topic7\", \"Topic7\", \"Topic7\"], \"Freq\": [5132.0, 3126.0, 2369.0, 2180.0, 2171.0, 9433.0, 2692.0, 6405.0, 1834.0, 2679.0, 1697.0, 2390.0, 1391.0, 1903.0, 1607.0, 1656.0, 1296.0, 903.0, 900.0, 1405.0, 1030.0, 978.0, 1207.0, 2048.0, 1026.0, 1276.0, 1258.0, 2466.0, 899.0, 1155.0, 2692.237060546875, 1902.928466796875, 1257.8909912109375, 1154.4549560546875, 1054.1661376953125, 945.2112426757812, 816.8475341796875, 566.4774780273438, 565.59521484375, 565.3035278320312, 561.74072265625, 555.4547119140625, 540.19482421875, 535.114013671875, 494.17779541015625, 462.7735900878906, 379.7935485839844, 361.46453857421875, 318.120849609375, 295.8573303222656, 294.0637512207031, 293.2330017089844, 272.36883544921875, 262.84515380859375, 258.9151611328125, 227.7235107421875, 222.86729431152344, 221.39419555664062, 220.78123474121094, 205.7406463623047, 493.5347900390625, 973.9846801757812, 675.1478271484375, 751.069091796875, 599.8958129882812, 1928.7239990234375, 5240.00390625, 3721.34228515625, 678.3951416015625, 614.5704345703125, 813.838623046875, 1410.8267822265625, 709.9757690429688, 1000.1613159179688, 1986.10791015625, 1501.8565673828125, 1495.52587890625, 1366.718017578125, 810.0234375, 710.7106323242188, 632.7296752929688, 760.7026977539062, 631.5724487304688, 630.6866455078125, 671.5886840820312, 651.117919921875, 635.1502685546875, 1405.2425537109375, 1276.2003173828125, 713.9070434570312, 558.0244140625, 453.4019775390625, 327.3188781738281, 327.8887939453125, 309.4707336425781, 302.8379211425781, 269.60821533203125, 264.7480163574219, 269.72137451171875, 262.7140197753906, 177.8792724609375, 162.08811950683594, 150.5400848388672, 149.99278259277344, 142.035400390625, 132.09437561035156, 132.347412109375, 132.4629364013672, 123.08588409423828, 123.58611297607422, 117.7663345336914, 116.70132446289062, 112.84749603271484, 110.5382308959961, 107.71549987792969, 103.83136749267578, 103.26775360107422, 1202.486328125, 2214.16748046875, 865.1961059570312, 1104.41064453125, 1737.169189453125, 666.6954345703125, 198.51016235351562, 959.8343505859375, 634.4564819335938, 254.43531799316406, 232.0561981201172, 677.7919311523438, 746.26220703125, 2959.28173828125, 448.97900390625, 845.7786865234375, 317.6561279296875, 380.19024658203125, 657.6551513671875, 774.6607666015625, 2154.501220703125, 760.3692016601562, 1687.8079833984375, 1225.1131591796875, 796.6220092773438, 570.4793701171875, 1286.34716796875, 846.1229248046875, 1120.4287109375, 581.0079345703125, 637.0418701171875, 731.1822509765625, 885.435791015625, 804.1942749023438, 1696.79052734375, 833.55322265625, 775.3479614257812, 738.2449340820312, 655.4666748046875, 403.2735900878906, 379.3714599609375, 364.7596435546875, 328.69580078125, 327.24078369140625, 249.33529663085938, 213.2427520751953, 204.53822326660156, 202.07904052734375, 190.24240112304688, 189.6426239013672, 174.51882934570312, 168.96136474609375, 168.51210021972656, 167.06784057617188, 167.79946899414062, 159.64239501953125, 159.55763244628906, 154.97320556640625, 148.7290496826172, 146.4686279296875, 139.04348754882812, 137.64694213867188, 134.82005310058594, 134.75205993652344, 135.09698486328125, 316.97906494140625, 321.5536804199219, 632.3927612304688, 579.7810668945312, 446.2861328125, 296.08721923828125, 204.7910614013672, 796.5565185546875, 346.48309326171875, 518.8128662109375, 849.519775390625, 293.6436767578125, 297.8830871582031, 497.8368225097656, 535.23095703125, 287.8565979003906, 364.2951354980469, 747.8507080078125, 522.1580200195312, 642.8724365234375, 900.911865234375, 486.3662414550781, 684.7645874023438, 647.8118286132812, 850.2623901367188, 422.30712890625, 634.7030639648438, 704.04052734375, 442.3700866699219, 459.701171875, 407.3031311035156, 418.5110778808594, 406.0760192871094, 1833.9434814453125, 1295.433349609375, 572.9042358398438, 492.42340087890625, 462.67706298828125, 397.04339599609375, 392.4075622558594, 303.8774108886719, 294.0462951660156, 241.3095703125, 225.82005310058594, 209.13516235351562, 202.74142456054688, 163.67864990234375, 163.74842834472656, 161.60716247558594, 155.1298828125, 145.61843872070312, 139.0684051513672, 132.10855102539062, 129.53762817382812, 124.04438781738281, 123.63163757324219, 121.90209197998047, 118.44828796386719, 118.06707763671875, 114.45287322998047, 112.38175964355469, 110.62255096435547, 109.65656280517578, 442.6305236816406, 1459.7603759765625, 3796.74658203125, 463.1341552734375, 711.1832885742188, 300.19964599609375, 556.4329223632812, 469.5853576660156, 368.4486083984375, 627.2257690429688, 332.8250427246094, 598.3331909179688, 209.95501708984375, 223.93167114257812, 290.31072998046875, 281.1505432128906, 222.7122039794922, 1117.9862060546875, 418.4537658691406, 467.1123962402344, 345.7340393066406, 446.6354064941406, 385.5729675292969, 365.2948913574219, 424.4906005859375, 400.5447082519531, 365.5539855957031, 322.6306457519531, 310.8901672363281, 3125.404541015625, 1026.24365234375, 899.1797485351562, 781.9644165039062, 733.597900390625, 706.9544677734375, 679.4070434570312, 411.8414306640625, 404.1944580078125, 395.59002685546875, 378.5834655761719, 341.2455749511719, 316.9297180175781, 311.8827209472656, 280.1278076171875, 262.3061828613281, 256.1025390625, 246.79037475585938, 244.11627197265625, 236.66119384765625, 236.45021057128906, 225.86065673828125, 222.396484375, 216.99258422851562, 210.5117645263672, 190.8870391845703, 177.78643798828125, 179.12399291992188, 175.99984741210938, 169.27191162109375, 1135.745361328125, 1464.5986328125, 569.2603759765625, 425.3485412597656, 301.51904296875, 415.16156005859375, 2019.2149658203125, 1334.6885986328125, 370.5139465332031, 283.2731018066406, 269.8319091796875, 530.3755493164062, 664.8907470703125, 609.4852294921875, 366.8251953125, 433.0567321777344, 308.712890625, 343.78533935546875, 379.5067443847656, 336.03802490234375, 2179.689697265625, 2170.71533203125, 1391.1917724609375, 977.8245849609375, 573.2100830078125, 337.73046875, 282.01068115234375, 277.489013671875, 244.31719970703125, 239.88987731933594, 225.7194366455078, 210.8134002685547, 170.9290771484375, 149.2866668701172, 145.14947509765625, 141.83123779296875, 140.6897735595703, 135.73892211914062, 112.910400390625, 109.97518157958984, 107.22628021240234, 107.98922729492188, 99.06170654296875, 98.72227478027344, 97.27655029296875, 93.25000762939453, 77.37742614746094, 77.19290161132812, 76.67407989501953, 77.38795471191406, 219.17608642578125, 678.4793701171875, 562.0277099609375, 185.58216857910156, 295.6184387207031, 1268.14892578125, 147.17562866210938, 318.8486328125, 408.3485412597656, 451.7560729980469, 587.4523315429688, 237.25709533691406, 561.9703979492188, 265.358154296875, 308.29034423828125, 212.74993896484375, 449.7510681152344, 498.4557800292969, 298.21539306640625, 470.8039855957031, 366.5600280761719, 375.427978515625, 298.3423156738281, 311.8307189941406, 287.9734191894531, 262.33721923828125, 287.08294677734375, 2368.718505859375, 903.17822265625, 900.0115966796875, 689.2327880859375, 328.0291442871094, 288.94622802734375, 280.0340576171875, 246.0437469482422, 175.45777893066406, 173.48342895507812, 172.40243530273438, 172.30157470703125, 147.79872131347656, 142.86260986328125, 138.49220275878906, 132.34100341796875, 126.2344741821289, 109.68743133544922, 109.4405746459961, 108.59783935546875, 101.56195068359375, 99.19450378417969, 98.9636459350586, 98.06464385986328, 97.86675262451172, 95.92109680175781, 93.614990234375, 90.6524658203125, 90.6589126586914, 87.16716003417969, 807.3190307617188, 236.78440856933594, 172.24461364746094, 339.54559326171875, 133.40057373046875, 257.2688293457031, 302.37890625, 221.12461853027344, 213.6477813720703, 371.0811767578125, 543.3796997070312, 175.4671630859375, 134.56800842285156, 512.2268676757812, 204.4269561767578, 318.5744323730469, 239.54014587402344, 232.379638671875, 197.82029724121094, 224.93719482421875, 190.57662963867188, 188.94154357910156, 178.13694763183594, 183.33816528320312], \"Term\": [\"light\", \"battery\", \"tire\", \"wiper\", \"blade\", \"car\", \"towel\", \"product\", \"bulb\", \"water\", \"leather\", \"price\", \"hose\", \"wax\", \"power\", \"oil\", \"bright\", \"trailer\", \"gauge\", \"device\", \"pressure\", \"windshield\", \"unit\", \"quality\", \"plug\", \"filter\", \"wash\", \"clean\", \"charger\", \"paint\", \"towel\", \"wax\", \"wash\", \"paint\", \"microfiber\", \"spray\", \"cloth\", \"meguiar\", \"clay\", \"smell\", \"polish\", \"shine\", \"mat\", \"griot\", \"cleaning\", \"coat\", \"chemical\", \"washing\", \"liquid\", \"detailer\", \"soap\", \"bucket\", \"cleaner\", \"mitt\", \"scent\", \"shiny\", \"sealant\", \"chamois\", \"applicator\", \"bug\", \"dust\", \"dry\", \"finish\", \"pad\", \"dirt\", \"clean\", \"car\", \"product\", \"bottle\", \"result\", \"surface\", \"water\", \"stuff\", \"job\", \"good\", \"use\", \"great\", \"time\", \"new\", \"lot\", \"black\", \"work\", \"hand\", \"kit\", \"easy\", \"year\", \"nice\", \"device\", \"filter\", \"app\", \"port\", \"glove\", \"local\", \"storage\", \"pump\", \"compressor\", \"iphone\", \"shipping\", \"zubie\", \"emergency\", \"vent\", \"reasonable\", \"gear\", \"limited\", \"com\", \"cabin\", \"china\", \"tablet\", \"gap\", \"usage\", \"leg\", \"label\", \"camping\", \"gel\", \"seller\", \"list\", \"alot\", \"amazon\", \"price\", \"box\", \"tool\", \"quality\", \"store\", \"dollar\", \"cheap\", \"money\", \"block\", \"function\", \"worth\", \"air\", \"good\", \"cost\", \"part\", \"service\", \"purchase\", \"item\", \"review\", \"product\", \"kit\", \"great\", \"work\", \"fit\", \"star\", \"time\", \"thing\", \"use\", \"one\", \"high\", \"well\", \"easy\", \"car\", \"leather\", \"seat\", \"door\", \"tape\", \"brush\", \"lock\", \"bumper\", \"bolt\", \"strap\", \"hitch\", \"vinyl\", \"sponge\", \"grit\", \"psi\", \"pin\", \"ball\", \"rust\", \"ramp\", \"wrap\", \"sprayer\", \"bluetooth\", \"visor\", \"remote\", \"shoe\", \"receiver\", \"helmet\", \"boot\", \"map\", \"tie\", \"console\", \"motion\", \"mount\", \"strip\", \"cover\", \"jeep\", \"hole\", \"conditioner\", \"wrangler\", \"wheel\", \"screw\", \"rubber\", \"plastic\", \"floor\", \"edge\", \"front\", \"place\", \"handle\", \"metal\", \"small\", \"install\", \"fit\", \"easy\", \"area\", \"little\", \"nice\", \"great\", \"heavy\", \"work\", \"good\", \"large\", \"side\", \"top\", \"thing\", \"use\", \"bulb\", \"bright\", \"inverter\", \"bosch\", \"mile\", \"fuel\", \"fluid\", \"carpet\", \"beam\", \"mpg\", \"mileage\", \"link\", \"improvement\", \"compact\", \"mini\", \"transmission\", \"vision\", \"coolant\", \"hid\", \"fog\", \"habit\", \"brightness\", \"purple\", \"pink\", \"rate\", \"longevity\", \"funnel\", \"halogen\", \"visible\", \"acceleration\", \"night\", \"oil\", \"light\", \"blue\", \"white\", \"driving\", \"change\", \"difference\", \"gas\", \"engine\", \"stock\", \"color\", \"torque\", \"temperature\", \"headlight\", \"honda\", \"yellow\", \"car\", \"high\", \"vehicle\", \"low\", \"year\", \"new\", \"old\", \"good\", \"time\", \"great\", \"day\", \"well\", \"battery\", \"plug\", \"charger\", \"phone\", \"charge\", \"code\", \"cable\", \"cord\", \"usb\", \"socket\", \"solar\", \"fuse\", \"datum\", \"cigarette\", \"cell\", \"output\", \"laptop\", \"outlet\", \"scanner\", \"amp\", \"computer\", \"watt\", \"wrench\", \"extension\", \"voltage\", \"electrical\", \"wiring\", \"indicator\", \"display\", \"dead\", \"unit\", \"power\", \"wire\", \"connector\", \"automatic\", \"adapter\", \"car\", \"light\", \"panel\", \"information\", \"switch\", \"vehicle\", \"use\", \"time\", \"engine\", \"small\", \"feature\", \"problem\", \"work\", \"day\", \"wiper\", \"blade\", \"hose\", \"windshield\", \"snow\", \"arm\", \"plate\", \"washer\", \"sewer\", \"cup\", \"lint\", \"holder\", \"icon\", \"gun\", \"season\", \"dish\", \"shower\", \"pipe\", \"anco\", \"bank\", \"license\", \"waffle\", \"dump\", \"tailgate\", \"drip\", \"acdelco\", \"knife\", \"scissor\", \"catch\", \"modern\", \"frame\", \"rain\", \"tank\", \"wind\", \"ice\", \"water\", \"fitting\", \"winter\", \"window\", \"clear\", \"side\", \"weather\", \"old\", \"design\", \"glass\", \"streak\", \"year\", \"easy\", \"end\", \"time\", \"new\", \"work\", \"install\", \"fit\", \"last\", \"month\", \"great\", \"tire\", \"trailer\", \"gauge\", \"jack\", \"tender\", \"volt\", \"accurate\", \"travel\", \"meter\", \"dog\", \"camco\", \"smart\", \"reading\", \"bamboo\", \"dome\", \"cargo\", \"chock\", \"stand\", \"stem\", \"terrible\", \"monitor\", \"sticker\", \"contour\", \"grand\", \"walmart\", \"height\", \"tint\", \"pound\", \"info\", \"camera\", \"pressure\", \"camper\", \"lift\", \"valve\", \"digital\", \"level\", \"board\", \"ground\", \"mirror\", \"air\", \"easy\", \"space\", \"double\", \"use\", \"bike\", \"nice\", \"truck\", \"side\", \"wheel\", \"time\", \"little\", \"thing\", \"front\", \"great\"], \"Total\": [5132.0, 3126.0, 2369.0, 2180.0, 2171.0, 9433.0, 2692.0, 6405.0, 1834.0, 2679.0, 1697.0, 2390.0, 1391.0, 1903.0, 1607.0, 1656.0, 1296.0, 903.0, 900.0, 1405.0, 1030.0, 978.0, 1207.0, 2048.0, 1026.0, 1276.0, 1258.0, 2466.0, 899.0, 1155.0, 2692.976806640625, 1903.66748046875, 1258.630126953125, 1155.1949462890625, 1054.9053955078125, 945.9512939453125, 817.587158203125, 567.2163696289062, 566.3341064453125, 566.0443725585938, 562.4797973632812, 556.1943359375, 540.9411010742188, 535.853515625, 494.9183654785156, 463.51397705078125, 380.53387451171875, 362.2040100097656, 318.8617858886719, 296.59613037109375, 294.80316162109375, 293.9725036621094, 273.10888671875, 263.584228515625, 259.6549987792969, 228.4634246826172, 223.6084442138672, 222.13429260253906, 221.52053833007812, 206.4821319580078, 517.001953125, 1061.2296142578125, 755.1228637695312, 849.6957397460938, 664.0925903320312, 2466.303466796875, 9433.8681640625, 6405.427734375, 839.8829345703125, 755.9651489257812, 1182.0086669921875, 2679.596435546875, 1072.7159423828125, 1867.4208984375, 6554.05712890625, 4415.26708984375, 5109.70263671875, 4645.22265625, 2146.358642578125, 1827.278564453125, 1102.1982421875, 3643.540771484375, 1214.5247802734375, 1416.0760498046875, 3683.984619140625, 2350.656005859375, 2399.2138671875, 1405.9698486328125, 1276.9227294921875, 714.6365966796875, 558.7540893554688, 454.1274719238281, 328.04345703125, 328.6149597167969, 310.1947021484375, 303.5615234375, 270.33868408203125, 265.47125244140625, 270.458251953125, 263.4396667480469, 178.6033172607422, 162.81314086914062, 151.26446533203125, 150.71995544433594, 142.75953674316406, 132.817626953125, 133.0723876953125, 133.19114685058594, 123.81072235107422, 124.31639862060547, 118.49761962890625, 117.42909240722656, 113.5726089477539, 111.26522827148438, 108.43955993652344, 104.55797576904297, 103.99349975585938, 1248.6898193359375, 2390.6875, 928.00244140625, 1231.2076416015625, 2048.56640625, 771.2705688476562, 209.31712341308594, 1184.1722412109375, 758.2144775390625, 281.41082763671875, 261.2009582519531, 967.2958984375, 1117.9306640625, 6554.05712890625, 607.262451171875, 1432.8201904296875, 395.4168395996094, 512.879150390625, 1100.4564208984375, 1426.552734375, 6405.427734375, 1416.0760498046875, 5109.70263671875, 3643.540771484375, 1751.8079833984375, 1016.803955078125, 4645.22265625, 2375.995361328125, 4415.26708984375, 1123.366943359375, 1435.508544921875, 2094.7607421875, 3683.984619140625, 9433.8681640625, 1697.5218505859375, 834.2850341796875, 776.0805053710938, 738.9779052734375, 656.19775390625, 404.00537109375, 380.10443115234375, 365.4911804199219, 329.4273681640625, 327.97186279296875, 250.06793212890625, 213.97640991210938, 205.27223205566406, 202.8194580078125, 190.9755859375, 190.3749542236328, 175.2502899169922, 169.69351196289062, 169.245361328125, 167.8068084716797, 168.556396484375, 160.3744659423828, 160.29457092285156, 155.7047576904297, 149.459716796875, 147.20004272460938, 139.7760009765625, 138.39173889160156, 135.5512237548828, 135.48574829101562, 135.8368682861328, 330.5074462890625, 336.9759521484375, 705.8095092773438, 666.135009765625, 503.8434143066406, 321.6294860839844, 215.64920043945312, 1161.655029296875, 428.8033752441406, 763.1083374023438, 1582.7432861328125, 363.924072265625, 376.87872314453125, 820.4397583007812, 959.637939453125, 376.7239074707031, 571.4805908203125, 2149.41455078125, 1176.4459228515625, 1751.8079833984375, 3683.984619140625, 1121.810302734375, 2551.239013671875, 2399.2138671875, 5109.70263671875, 908.053466796875, 3643.540771484375, 6554.05712890625, 1281.7188720703125, 1575.881103515625, 916.0379028320312, 2375.995361328125, 4415.26708984375, 1834.6722412109375, 1296.1630859375, 573.6396484375, 493.1590881347656, 463.406982421875, 397.77288818359375, 393.1366271972656, 304.61236572265625, 294.77593994140625, 242.03988647460938, 226.5506134033203, 209.87376403808594, 203.47271728515625, 164.4134979248047, 164.4842071533203, 162.33631896972656, 155.8636474609375, 146.34742736816406, 139.7970428466797, 132.83763122558594, 130.2816162109375, 124.77387237548828, 124.3602294921875, 122.64501190185547, 119.1815414428711, 118.80135345458984, 115.18211364746094, 113.11023712158203, 111.35492706298828, 110.39253997802734, 458.02740478515625, 1656.913330078125, 5132.05517578125, 553.5626220703125, 934.0863037109375, 352.5123291015625, 784.2679443359375, 636.8953857421875, 489.0064697265625, 994.6695556640625, 450.6831359863281, 1053.8082275390625, 247.6964569091797, 274.7893981933594, 450.88397216796875, 428.29425048828125, 309.5580139160156, 9433.8681640625, 1435.508544921875, 2252.860595703125, 952.8543701171875, 2350.656005859375, 2146.358642578125, 1708.915283203125, 6554.05712890625, 4645.22265625, 5109.70263671875, 1434.9515380859375, 2094.7607421875, 3126.145263671875, 1026.9853515625, 899.9201049804688, 782.7066650390625, 734.3385620117188, 707.6954956054688, 680.1483154296875, 412.5834045410156, 404.935302734375, 396.3323974609375, 379.3247375488281, 341.98687744140625, 317.6716613769531, 312.6234436035156, 280.869140625, 263.0502014160156, 256.84375, 247.5322265625, 244.8570556640625, 237.4020233154297, 237.19229125976562, 226.60206604003906, 223.13949584960938, 217.73431396484375, 211.25245666503906, 191.6293182373047, 178.52882385253906, 179.87490844726562, 176.74246215820312, 170.0146942138672, 1207.39404296875, 1607.0528564453125, 672.8056030273438, 528.7823486328125, 377.9498596191406, 610.2604370117188, 9433.8681640625, 5132.05517578125, 594.1565551757812, 360.75384521484375, 324.7287292480469, 2252.860595703125, 4415.26708984375, 4645.22265625, 994.6695556640625, 2149.41455078125, 542.973388671875, 1432.5496826171875, 3643.540771484375, 1434.9515380859375, 2180.421142578125, 2171.447021484375, 1391.925537109375, 978.5569458007812, 573.9427490234375, 338.4633483886719, 282.7442321777344, 278.2227478027344, 245.0491943359375, 240.63275146484375, 226.45709228515625, 211.548828125, 171.6620635986328, 150.01980590820312, 145.88323974609375, 142.56961059570312, 141.42333984375, 136.4730224609375, 113.64176940917969, 110.71817779541016, 107.95941162109375, 108.72911071777344, 99.7957992553711, 99.45626068115234, 98.01541137695312, 93.9822769165039, 78.11344909667969, 77.92953491210938, 77.40907287597656, 78.13502502441406, 226.97991943359375, 745.6768798828125, 679.428955078125, 208.744873046875, 359.5091857910156, 2679.596435546875, 168.96800231933594, 506.92706298828125, 800.9287719726562, 1017.15380859375, 1575.881103515625, 388.5533142089844, 1708.915283203125, 499.5354919433594, 721.1246337890625, 361.4588928222656, 2350.656005859375, 3683.984619140625, 987.7849731445312, 4645.22265625, 2146.358642578125, 3643.540771484375, 1176.4459228515625, 1751.8079833984375, 1433.9273681640625, 904.1712646484375, 5109.70263671875, 2369.43359375, 903.8934326171875, 900.7264404296875, 689.9476928710938, 328.74554443359375, 289.6653137207031, 280.7498779296875, 246.759521484375, 176.1752471923828, 174.20208740234375, 173.11953735351562, 173.02622985839844, 148.5149688720703, 143.5845947265625, 139.21630859375, 133.0579376220703, 126.94886779785156, 110.40296936035156, 110.15553283691406, 109.31842803955078, 102.28337860107422, 99.91230773925781, 99.68831634521484, 98.78287506103516, 98.58475494384766, 96.63742065429688, 94.33865356445312, 91.37016296386719, 91.38219451904297, 87.88634490966797, 1030.752685546875, 301.07415771484375, 205.4524688720703, 522.8624267578125, 150.9700927734375, 378.45037841796875, 483.119384765625, 317.36846923828125, 354.22021484375, 1117.9306640625, 3683.984619140625, 318.7861633300781, 175.36471557617188, 4415.26708984375, 508.72509765625, 2399.2138671875, 1084.681640625, 1575.881103515625, 1161.655029296875, 4645.22265625, 2551.239013671875, 2375.995361328125, 820.4397583007812, 5109.70263671875], \"loglift\": [30.0, 29.0, 28.0, 27.0, 26.0, 25.0, 24.0, 23.0, 22.0, 21.0, 20.0, 19.0, 18.0, 17.0, 16.0, 15.0, 14.0, 13.0, 12.0, 11.0, 10.0, 9.0, 8.0, 7.0, 6.0, 5.0, 4.0, 3.0, 2.0, 1.0, 1.575600028038025, 1.5755000114440918, 1.5752999782562256, 1.5751999616622925, 1.5751999616622925, 1.5750999450683594, 1.5749000310897827, 1.5744999647140503, 1.5744999647140503, 1.5744999647140503, 1.5744999647140503, 1.5744999647140503, 1.5744999647140503, 1.5744999647140503, 1.5743999481201172, 1.5743000507354736, 1.5738999843597412, 1.573799967765808, 1.5735000371932983, 1.5734000205993652, 1.5733000040054321, 1.5733000040054321, 1.573099970817566, 1.5729999542236328, 1.5729999542236328, 1.57260000705719, 1.5724999904632568, 1.5724999904632568, 1.5724999904632568, 1.5722999572753906, 1.5293999910354614, 1.4901000261306763, 1.4638999700546265, 1.4524999856948853, 1.4742000102996826, 1.3300000429153442, 0.9879000186920166, 1.0327999591827393, 1.3623000383377075, 1.3688000440597534, 1.2026000022888184, 0.9344000220298767, 1.163100004196167, 0.9514999985694885, 0.38190001249313354, 0.4975000023841858, 0.3472000062465668, 0.352400004863739, 0.6014000177383423, 0.6315000057220459, 1.020799994468689, 0.009399999864399433, 0.921999990940094, 0.7670000195503235, -0.12630000710487366, 0.2921000123023987, 0.2468000054359436, 1.5800000429153442, 1.5800000429153442, 1.5794999599456787, 1.579200029373169, 1.5788999795913696, 1.5782999992370605, 1.5782999992370605, 1.5781999826431274, 1.5780999660491943, 1.5778000354766846, 1.5778000354766846, 1.5778000354766846, 1.5778000354766846, 1.5765000581741333, 1.5760999917984009, 1.575700044631958, 1.575700044631958, 1.5753999948501587, 1.5750999450683594, 1.5750999450683594, 1.5750000476837158, 1.5746999979019165, 1.5745999813079834, 1.5743000507354736, 1.5743000507354736, 1.5741000175476074, 1.5740000009536743, 1.573799967765808, 1.5735000371932983, 1.5735000371932983, 1.542799949645996, 1.5038000345230103, 1.5104000568389893, 1.4717999696731567, 1.4155999422073364, 1.4348000288009644, 1.527500033378601, 1.3704999685287476, 1.4023000001907349, 1.4797999858856201, 1.4622000455856323, 1.2249000072479248, 1.1763999462127686, 0.7853999733924866, 1.278499960899353, 1.0534000396728516, 1.3616000413894653, 1.2812000513076782, 1.0657000541687012, 0.9699000120162964, 0.4909000098705292, 0.9587000012397766, 0.47279998660087585, 0.49059998989105225, 0.7925000190734863, 1.0025999546051025, 0.29649999737739563, 0.5479999780654907, 0.20919999480247498, 0.9211999773979187, 0.7681000232696533, 0.527999997138977, 0.15489999949932098, -0.8816999793052673, 1.9773000478744507, 1.9767999649047852, 1.976699948310852, 1.976699948310852, 1.9766000509262085, 1.9759000539779663, 1.9758000373840332, 1.9757000207901, 1.9754999876022339, 1.9754999876022339, 1.9747999906539917, 1.9743000268936157, 1.9740999937057495, 1.9739999771118164, 1.9737999439239502, 1.9737999439239502, 1.9735000133514404, 1.9733999967575073, 1.9732999801635742, 1.9732999801635742, 1.9731999635696411, 1.973099946975708, 1.973099946975708, 1.9730000495910645, 1.9728000164031982, 1.9726999998092651, 1.9723999500274658, 1.9723000526428223, 1.9723000526428223, 1.9723000526428223, 1.9722000360488892, 1.9358999729156494, 1.930799961090088, 1.867900013923645, 1.8387999534606934, 1.8564000129699707, 1.8948999643325806, 1.9259999990463257, 1.6003999710083008, 1.7645000219345093, 1.5917999744415283, 1.3553999662399292, 1.763100028038025, 1.7424999475479126, 1.4780999422073364, 1.3938000202178955, 1.7086000442504883, 1.527400016784668, 0.9218999743461609, 1.1654000282287598, 0.9751999974250793, 0.5692999958992004, 1.1418999433517456, 0.6624000072479248, 0.66839998960495, 0.1843000054359436, 1.2121000289916992, 0.23010000586509705, -0.2533000111579895, 0.9139000177383423, 0.7457000017166138, 1.167199969291687, 0.24120000004768372, -0.40860000252723694, 1.9931000471115112, 1.992900013923645, 1.9922000169754028, 1.9919999837875366, 1.9918999671936035, 1.9916000366210938, 1.9916000366210938, 1.9910999536514282, 1.9910000562667847, 1.9904999732971191, 1.9903000593185425, 1.9900000095367432, 1.98989999294281, 1.9889999628067017, 1.9889999628067017, 1.9889999628067017, 1.988800048828125, 1.9884999990463257, 1.9882999658584595, 1.9880000352859497, 1.9878000020980835, 1.9875999689102173, 1.9875999689102173, 1.9874000549316406, 1.9873000383377075, 1.9873000383377075, 1.9871000051498413, 1.9869999885559082, 1.986899971961975, 1.986799955368042, 1.9593000411987305, 1.8667999505996704, 1.6921000480651855, 1.8150999546051025, 1.7208000421524048, 1.832800030708313, 1.6503000259399414, 1.6886999607086182, 1.7103999853134155, 1.5324000120162964, 1.6902999877929688, 1.4275000095367432, 1.8281999826431274, 1.7888000011444092, 1.5532000064849854, 1.57260000705719, 1.664199948310852, -0.13930000364780426, 0.7608000040054321, 0.42010000348091125, 0.9797000288963318, 0.3328000009059906, 0.2766999900341034, 0.4505999982357025, -0.7434999942779541, -0.45730000734329224, -0.6439999938011169, 0.5011000037193298, 0.08569999784231186, 2.032099962234497, 2.031599998474121, 2.0315001010894775, 2.031399965286255, 2.0313000679016113, 2.0313000679016113, 2.0311999320983887, 2.0304999351501465, 2.0304999351501465, 2.030400037765503, 2.030400037765503, 2.030100107192993, 2.0299999713897705, 2.029900074005127, 2.0297000408172607, 2.0295000076293945, 2.029400110244751, 2.0292999744415283, 2.0292999744415283, 2.0292000770568848, 2.0292000770568848, 2.0290000438690186, 2.0290000438690186, 2.028899908065796, 2.0288000106811523, 2.02839994430542, 2.02810001373291, 2.02810001373291, 2.02810001373291, 2.027899980545044, 1.9710999727249146, 1.9394999742507935, 1.8652000427246094, 1.8145999908447266, 1.806399941444397, 1.6470999717712402, 0.49070000648498535, 0.6855000257492065, 1.5600999593734741, 1.7905000448226929, 1.847100019454956, 0.5859000086784363, 0.13910000026226044, 0.0013000000035390258, 1.0348000526428223, 0.4302000105381012, 1.4677000045776367, 0.6050999760627747, -0.22949999570846558, 0.5806999802589417, 2.2174999713897705, 2.2174999713897705, 2.2172999382019043, 2.217099905014038, 2.216599941253662, 2.2156999111175537, 2.2153000831604004, 2.2151999473571777, 2.214900016784668, 2.2147998809814453, 2.214600086212158, 2.214400053024292, 2.213599920272827, 2.2130000591278076, 2.2128000259399414, 2.2126998901367188, 2.212599992752075, 2.2125000953674316, 2.211400032043457, 2.2111001014709473, 2.2109999656677246, 2.2109999656677246, 2.2105000019073486, 2.210400104522705, 2.2102999687194824, 2.2100000381469727, 2.208400011062622, 2.208400011062622, 2.2083001136779785, 2.208199977874756, 2.1828999519348145, 2.1233999729156494, 2.02810001373291, 2.1001999378204346, 2.022200107574463, 1.4696999788284302, 2.0797998905181885, 1.7541999816894531, 1.5441999435424805, 1.4062000513076782, 1.2310999631881714, 1.7245999574661255, 1.1057000160217285, 1.5852999687194824, 1.3681000471115112, 1.6878000497817993, 0.5641000270843506, 0.2176000028848648, 1.0202000141143799, -0.07129999995231628, 0.4505000114440918, -0.05480000004172325, 0.84579998254776, 0.4918999969959259, 0.612500011920929, 0.9804999828338623, -0.661300003528595, 2.619499921798706, 2.61899995803833, 2.61899995803833, 2.618799924850464, 2.6175999641418457, 2.617300033569336, 2.6171998977661133, 2.6168999671936035, 2.6157000064849854, 2.6157000064849854, 2.6157000064849854, 2.615600109100342, 2.615000009536743, 2.614799976348877, 2.6145999431610107, 2.6143999099731445, 2.6142001152038574, 2.613300085067749, 2.613300085067749, 2.6131999492645264, 2.6126999855041504, 2.612600088119507, 2.612499952316284, 2.612499952316284, 2.612499952316284, 2.6124000549316406, 2.6120998859405518, 2.6119000911712646, 2.6119000911712646, 2.611599922180176, 2.375499963760376, 2.3796000480651855, 2.44350004196167, 2.1881000995635986, 2.4960999488830566, 2.233799934387207, 2.15120005607605, 2.258500099182129, 2.1142001152038574, 1.5169999599456787, 0.7059000134468079, 2.022700071334839, 2.3550000190734863, 0.4657000005245209, 1.7080999612808228, 0.6007999777793884, 1.1095000505447388, 0.7056000232696533, 0.8496000170707703, -0.40799999237060547, 0.025499999523162842, 0.08810000121593475, 1.0924999713897705, -0.7077999711036682], \"logprob\": [30.0, 29.0, 28.0, 27.0, 26.0, 25.0, 24.0, 23.0, 22.0, 21.0, 20.0, 19.0, 18.0, 17.0, 16.0, 15.0, 14.0, 13.0, 12.0, 11.0, 10.0, 9.0, 8.0, 7.0, 6.0, 5.0, 4.0, 3.0, 2.0, 1.0, -3.7411999702453613, -4.088200092315674, -4.502099990844727, -4.587900161743164, -4.678800106048584, -4.787899971008301, -4.933899879455566, -5.299900054931641, -5.301499843597412, -5.302000045776367, -5.308300018310547, -5.319499969482422, -5.347400188446045, -5.356800079345703, -5.436399936676025, -5.502099990844727, -5.699699878692627, -5.749199867248535, -5.8769001960754395, -5.94950008392334, -5.95550012588501, -5.958399772644043, -6.032199859619141, -6.067800045013428, -6.082799911499023, -6.21120023727417, -6.232800006866455, -6.2393999099731445, -6.242199897766113, -6.312699794769287, -5.437699794769287, -4.757900238037109, -5.1244001388549805, -5.0177998542785645, -5.242599964141846, -4.074699878692627, -3.0752999782562256, -3.4175000190734863, -5.11959981918335, -5.218400001525879, -4.937600135803223, -4.387400150299072, -5.074100017547607, -4.731400012969971, -4.045400142669678, -4.324900150299072, -4.329100131988525, -4.4191999435424805, -4.942299842834473, -5.0731000900268555, -5.189300060272217, -5.005099773406982, -5.191100120544434, -5.192500114440918, -5.129700183868408, -5.160600185394287, -5.185500144958496, -4.38670015335083, -4.482999801635742, -5.063899993896484, -5.310299873352051, -5.517899990081787, -5.843699932098389, -5.8420000076293945, -5.899799823760986, -5.921500205993652, -6.037700176239014, -6.0559000968933105, -6.037300109863281, -6.063600063323975, -6.45359992980957, -6.546500205993652, -6.6203999519348145, -6.624100208282471, -6.678599834442139, -6.751100063323975, -6.749199867248535, -6.7484002113342285, -6.821800231933594, -6.817699909210205, -6.866000175476074, -6.875, -6.908599853515625, -6.929299831390381, -6.9552001953125, -6.9918999671936035, -6.997300148010254, -4.542500019073486, -3.931999921798706, -4.871699810028076, -4.627600193023682, -4.174600124359131, -5.132299900054932, -6.343800067901611, -4.767899990081787, -5.1819000244140625, -6.095600128173828, -6.187699794769287, -5.115799903869629, -5.019599914550781, -3.6419999599456787, -5.527699947357178, -4.894400119781494, -5.873700141906738, -5.693999767303467, -5.145999908447266, -4.9822001457214355, -3.9593000411987305, -5.000899791717529, -4.203499794006348, -4.523900032043457, -4.9542999267578125, -5.2881999015808105, -4.475100040435791, -4.894000053405762, -4.6132001876831055, -5.269899845123291, -5.177800178527832, -5.039999961853027, -4.848599910736084, -4.944799900054932, -3.8010001182556152, -4.5117998123168945, -4.584199905395508, -4.633200168609619, -4.752099990844727, -5.2378997802734375, -5.298999786376953, -5.3383002281188965, -5.442399978637695, -5.446800231933594, -5.718699932098389, -5.875100135803223, -5.9166998863220215, -5.928800106048584, -5.989200115203857, -5.992400169372559, -6.075500011444092, -6.107800006866455, -6.110499858856201, -6.119100093841553, -6.114699840545654, -6.164599895477295, -6.16510009765625, -6.194200038909912, -6.235400199890137, -6.250699996948242, -6.302700042724609, -6.31279993057251, -6.333600044250488, -6.334099769592285, -6.331500053405762, -5.478700160980225, -5.464300155639648, -4.788000106811523, -4.874800205230713, -5.136499881744385, -5.546800136566162, -5.915500164031982, -4.557199954986572, -5.389699935913086, -4.986000061035156, -4.492800235748291, -5.555099964141846, -5.540800094604492, -5.027200222015381, -4.954800128936768, -5.574999809265137, -5.3394999504089355, -4.620299816131592, -4.979499816894531, -4.771599769592285, -4.434100151062012, -5.05049991607666, -4.708399772644043, -4.763899803161621, -4.492000102996826, -5.191800117492676, -4.784299850463867, -4.680699825286865, -5.145400047302246, -5.106900215148926, -5.22790002822876, -5.200799942016602, -5.230999946594238, -3.7074999809265137, -4.055099964141846, -4.870999813079834, -5.02239990234375, -5.084700107574463, -5.23769998550415, -5.2494001388549805, -5.505099773406982, -5.538000106811523, -5.735599994659424, -5.802000045776367, -5.878699779510498, -5.909800052642822, -6.123799800872803, -6.1234002113342285, -6.136499881744385, -6.1774001121521, -6.240699768066406, -6.2866997718811035, -6.338099956512451, -6.357699871063232, -6.401100158691406, -6.404399871826172, -6.418499946594238, -6.447199821472168, -6.450399875640869, -6.481500148773193, -6.499800205230713, -6.515600204467773, -6.5243000984191895, -5.129000186920166, -3.935699939727783, -2.97979998588562, -5.083700180053711, -4.654799938201904, -5.517300128936768, -4.900199890136719, -5.069799900054932, -5.312399864196777, -4.780399799346924, -5.414100170135498, -4.827600002288818, -5.874800205230713, -5.810400009155273, -5.5507001876831055, -5.582799911499023, -5.815800189971924, -4.202400207519531, -5.185100078582764, -5.075099945068359, -5.375999927520752, -5.119999885559082, -5.267000198364258, -5.321000099182129, -5.17080020904541, -5.228899955749512, -5.320300102233887, -5.445199966430664, -5.4822998046875, -3.1356000900268555, -4.249199867248535, -4.381400108337402, -4.521100044250488, -4.58489990234375, -4.6219000816345215, -4.661600112915039, -5.162199974060059, -5.181000232696533, -5.202499866485596, -5.246399879455566, -5.350299835205078, -5.424200057983398, -5.440199851989746, -5.547599792480469, -5.613399982452393, -5.63730001449585, -5.674300193786621, -5.685200214385986, -5.71619987487793, -5.717100143432617, -5.763000011444092, -5.77839994430542, -5.802999973297119, -5.8333001136779785, -5.93120002746582, -6.002299785614014, -5.994800090789795, -6.012400150299072, -6.051400184631348, -4.147799968719482, -3.8935000896453857, -4.838500022888184, -5.130000114440918, -5.473999977111816, -5.154200077056885, -3.5724000930786133, -3.9863998889923096, -5.26800012588501, -5.536499977111816, -5.585100173950195, -4.909299850463867, -4.683199882507324, -4.770299911499023, -5.2779998779296875, -5.111999988555908, -5.450500011444092, -5.342899799346924, -5.24399995803833, -5.365600109100342, -3.3104000091552734, -3.314500093460083, -3.759399890899658, -4.111999988555908, -4.646100044250488, -5.175099849700928, -5.355400085449219, -5.371600151062012, -5.498899936676025, -5.517199993133545, -5.578000068664551, -5.646399974822998, -5.856100082397461, -5.991499900817871, -6.019599914550781, -6.042699813842773, -6.05079984664917, -6.086599826812744, -6.270699977874756, -6.297100067138672, -6.322400093078613, -6.315299987792969, -6.401599884033203, -6.40500020980835, -6.4197998046875, -6.461999893188477, -6.648600101470947, -6.651000022888184, -6.657800197601318, -6.648499965667725, -5.607500076293945, -4.477499961853027, -4.665800094604492, -5.773799896240234, -5.308300018310547, -3.8519999980926514, -6.00570011138916, -5.232600212097168, -4.985199928283691, -4.884200096130371, -4.621500015258789, -5.528200149536133, -4.665900230407715, -5.416299819946289, -5.266300201416016, -5.637199878692627, -4.888599872589111, -4.785799980163574, -5.299499988555908, -4.842899799346924, -5.093200206756592, -5.069300174713135, -5.299099922180176, -5.254899978637695, -5.334499835968018, -5.427700042724609, -5.337600231170654, -2.8252999782562256, -3.7894999980926514, -3.7929999828338623, -4.059800148010254, -4.802299976348877, -4.929100036621094, -4.9604997634887695, -5.089900016784668, -5.427999973297119, -5.439300060272217, -5.4456000328063965, -5.446100234985352, -5.5995001792907715, -5.633500099182129, -5.664599895477295, -5.710000038146973, -5.757199764251709, -5.89769983291626, -5.900000095367432, -5.907700061798096, -5.974699974060059, -5.998300075531006, -6.0005998611450195, -6.009799957275391, -6.0117998123168945, -6.031899929046631, -6.05620002746582, -6.0883002281188965, -6.0883002281188965, -6.127600193023682, -3.901700019836426, -5.128200054168701, -5.446499824523926, -4.7677998542785645, -5.702000141143799, -5.045300006866455, -4.883699893951416, -5.196700096130371, -5.231100082397461, -4.678999900817871, -4.297599792480469, -5.4278998374938965, -5.693299770355225, -4.356599807739258, -5.275199890136719, -4.831500053405762, -5.116700172424316, -5.146999835968018, -5.308000087738037, -5.179599761962891, -5.345300197601318, -5.353899955749512, -5.412799835205078, -5.383999824523926]}, \"token.table\": {\"Topic\": [4, 7, 6, 5, 6, 2, 7, 2, 1, 2, 5, 6, 2, 1, 1, 3, 4, 6, 6, 4, 5, 3, 7, 6, 5, 4, 2, 4, 5, 7, 1, 3, 5, 6, 6, 2, 4, 1, 4, 3, 3, 5, 7, 3, 3, 4, 1, 4, 2, 5, 4, 4, 3, 1, 1, 4, 3, 2, 5, 7, 7, 6, 7, 2, 1, 2, 4, 5, 6, 7, 4, 6, 5, 1, 2, 4, 5, 5, 1, 2, 3, 4, 6, 1, 2, 7, 5, 1, 1, 3, 4, 6, 1, 1, 1, 2, 4, 5, 6, 1, 1, 5, 1, 3, 4, 2, 4, 2, 5, 1, 3, 5, 6, 3, 7, 4, 5, 1, 2, 4, 6, 3, 6, 6, 5, 1, 2, 3, 4, 5, 6, 5, 2, 3, 6, 7, 1, 2, 1, 4, 6, 5, 7, 1, 3, 6, 5, 7, 2, 4, 6, 7, 3, 4, 6, 7, 6, 2, 4, 1, 3, 6, 6, 1, 3, 1, 2, 3, 5, 6, 7, 3, 4, 6, 5, 2, 1, 2, 3, 5, 6, 4, 5, 5, 2, 5, 6, 7, 2, 1, 3, 2, 3, 6, 2, 6, 3, 7, 4, 4, 5, 6, 3, 4, 6, 7, 4, 2, 3, 4, 5, 2, 2, 4, 7, 2, 2, 1, 6, 2, 1, 2, 3, 4, 5, 6, 7, 7, 1, 2, 3, 4, 5, 6, 7, 1, 3, 3, 5, 7, 6, 4, 4, 1, 2, 3, 6, 7, 3, 6, 7, 1, 4, 1, 2, 3, 5, 6, 7, 3, 4, 1, 2, 3, 4, 5, 6, 7, 3, 6, 2, 3, 2, 4, 6, 1, 6, 6, 4, 5, 7, 2, 5, 2, 3, 6, 4, 2, 1, 2, 3, 5, 7, 3, 4, 1, 2, 3, 6, 7, 1, 2, 4, 6, 2, 5, 1, 2, 3, 5, 6, 7, 1, 2, 4, 6, 7, 3, 2, 1, 4, 5, 7, 6, 6, 7, 4, 5, 2, 4, 6, 1, 2, 1, 2, 3, 4, 5, 6, 7, 2, 3, 4, 1, 2, 3, 4, 5, 6, 7, 2, 3, 4, 5, 6, 7, 3, 1, 1, 2, 3, 6, 7, 1, 4, 4, 4, 1, 7, 1, 6, 1, 2, 4, 7, 1, 4, 5, 6, 7, 3, 3, 6, 4, 1, 2, 3, 4, 5, 6, 1, 2, 3, 4, 5, 6, 7, 4, 5, 2, 4, 1, 2, 3, 4, 5, 6, 7, 1, 2, 3, 4, 6, 7, 5, 5, 1, 3, 1, 1, 3, 5, 1, 2, 3, 4, 6, 5, 3, 4, 6, 2, 3, 6, 7, 1, 2, 3, 6, 6, 5, 1, 2, 7, 4, 5, 6, 7, 1, 2, 1, 2, 3, 4, 5, 6, 7, 1, 2, 3, 4, 5, 3, 2, 1, 2, 3, 4, 5, 4, 1, 2, 3, 1, 6, 3, 4, 7, 2, 3, 3, 1, 4, 5, 7, 1, 2, 3, 4, 5, 6, 3, 6, 7, 3, 5, 1, 6, 3, 6, 7, 1, 6, 3, 2, 2, 4, 5, 6, 1, 1, 2, 3, 6, 1, 2, 3, 5, 6, 7, 1, 2, 3, 5, 6, 7, 7, 1, 6, 1, 5, 5, 2, 5, 7, 3, 1, 3, 7, 1, 2, 3, 4, 5, 6, 7, 7, 7, 2, 3, 4, 2, 1, 2, 3, 3, 1, 6, 1, 3, 1, 3, 4, 1, 3, 4, 5, 2, 6, 4, 6, 3, 4, 5, 7, 7, 1, 2, 3, 4, 5, 6, 7, 3, 1, 2, 3, 4, 5, 6, 7, 7, 7, 2, 5, 1, 2, 3, 4, 5, 6, 7, 3, 4, 1, 7, 4, 7, 1, 2, 3, 4, 5, 6, 7, 5, 7, 2, 5, 1, 2, 3, 4, 5, 6, 7, 4, 6, 7, 1, 2, 3, 4, 5, 6, 7, 2, 3, 4, 4, 3, 7, 5, 6, 7, 1, 6, 1, 1, 6, 5, 1, 1, 3, 4, 5, 6, 1, 2, 3, 4, 6, 1, 3, 7, 1, 3, 4, 4, 6, 1, 5, 6, 6, 1, 4, 5, 6, 6, 3, 5, 5, 1, 2, 3, 4, 5, 6, 7, 1, 2, 4, 3, 4, 3, 5, 1, 2, 4, 5, 6, 7, 1, 4, 5, 2], \"Freq\": [0.9964441657066345, 0.9973289966583252, 0.9895482659339905, 0.6800375580787659, 0.3178970515727997, 0.6673043370246887, 0.3318631649017334, 0.9904465079307556, 0.03683861345052719, 0.9626089334487915, 0.9983065724372864, 0.9943526983261108, 0.9991092085838318, 0.997650146484375, 0.3717206120491028, 0.4332283139228821, 0.08914162963628769, 0.10518712550401688, 0.9986310005187988, 0.20108486711978912, 0.7990477681159973, 0.998030424118042, 0.9959285855293274, 0.9935134649276733, 0.9996336698532104, 0.9973676800727844, 0.26143786311149597, 0.09828490763902664, 0.23784947395324707, 0.401002436876297, 0.574306845664978, 0.17691917717456818, 0.05262211337685585, 0.1959720104932785, 0.9997941255569458, 0.9025949835777283, 0.09239161014556885, 0.16258323192596436, 0.8364003896713257, 0.9966990351676941, 0.2732243835926056, 0.0993543267250061, 0.6251043081283569, 0.9986560940742493, 0.9944482445716858, 0.9976496696472168, 0.8072553873062134, 0.19169338047504425, 0.9321095943450928, 0.06681016832590103, 0.9991026520729065, 0.993797779083252, 0.9981747269630432, 0.996691882610321, 0.9976650476455688, 0.9996336102485657, 0.9970943927764893, 0.9938439726829529, 0.9983116984367371, 0.9935331344604492, 0.9899148941040039, 0.21257221698760986, 0.7871814966201782, 0.994958221912384, 0.5554455518722534, 0.08522485196590424, 0.11850918084383011, 0.2140161395072937, 0.026712266728281975, 0.9920490384101868, 0.9979897141456604, 0.9947154521942139, 0.996905505657196, 0.9948936700820923, 0.28944188356399536, 0.7089414000511169, 0.9995389580726624, 0.998977541923523, 0.07853586971759796, 0.8106928467750549, 0.026178624480962753, 0.02448968030512333, 0.05995749309659004, 0.9985970258712769, 0.9919413328170776, 0.992525577545166, 0.998005747795105, 0.9994100332260132, 0.7821422219276428, 0.08920232206583023, 0.05189953371882439, 0.07703837007284164, 0.9959397912025452, 0.9981443881988525, 0.33721548318862915, 0.006881948560476303, 0.15238599479198456, 0.05898812785744667, 0.44437724351882935, 0.9992818236351013, 0.9988911151885986, 0.9990172386169434, 0.35205647349357605, 0.07971090078353882, 0.5674656629562378, 0.9946796298027039, 0.9974850416183472, 0.9981502294540405, 0.9949733018875122, 0.07772919535636902, 0.9203136563301086, 0.8037333488464355, 0.1947871446609497, 0.9964147806167603, 0.993095338344574, 0.997626006603241, 0.9985859990119934, 0.09386386722326279, 0.7393837571144104, 0.13009202480316162, 0.036228157579898834, 0.8954257369041443, 0.10342734307050705, 0.9973704814910889, 0.9978857040405273, 0.24321378767490387, 0.16864681243896484, 0.03345060721039772, 0.22509470582008362, 0.23415425419807434, 0.09547360986471176, 0.9940317273139954, 0.2882677912712097, 0.0740688145160675, 0.5304928421974182, 0.10409671068191528, 0.997990071773529, 0.9993101954460144, 0.2449381798505783, 0.7379547953605652, 0.01727128215134144, 0.11260508745908737, 0.8809691667556763, 0.9034884572029114, 0.0963721051812172, 0.9960047006607056, 0.99579918384552, 0.9930994510650635, 0.9507105350494385, 0.019109759479761124, 0.03344208002090454, 0.9912631511688232, 0.9986077547073364, 0.13685762882232666, 0.09123842418193817, 0.769824206829071, 0.9896402955055237, 0.14751257002353668, 0.8510340452194214, 0.9178032875061035, 0.016019154340028763, 0.06596121937036514, 0.9920257329940796, 0.9555089473724365, 0.04448726028203964, 0.18241117894649506, 0.24022901058197021, 0.24457213282585144, 0.04994592070579529, 0.13517971336841583, 0.14739474654197693, 0.7907052636146545, 0.023880360648036003, 0.18308277428150177, 0.9967159628868103, 0.9983310699462891, 0.0981995090842247, 0.219683438539505, 0.2895366847515106, 0.09111294895410538, 0.301685094833374, 0.6303601264953613, 0.3689667582511902, 0.9966274499893188, 0.10681923478841782, 0.5690886378288269, 0.12707805633544922, 0.19522134959697723, 0.9992773532867432, 0.8938942551612854, 0.10461873561143875, 0.4549585282802582, 0.36704936623573303, 0.17810171842575073, 0.12428388744592667, 0.8699871897697449, 0.8078608512878418, 0.19234780967235565, 0.9971088171005249, 0.9936943054199219, 0.03083973191678524, 0.9648430347442627, 0.6069915294647217, 0.0792258009314537, 0.09628982096910477, 0.21695682406425476, 0.998056948184967, 0.8882049918174744, 0.1110256239771843, 0.9897369742393494, 0.9971143007278442, 0.9934518933296204, 0.24539552628993988, 0.7525463104248047, 0.9991934895515442, 0.9982516169548035, 0.9976162314414978, 0.5713298320770264, 0.4271106421947479, 0.9975172877311707, 0.3030184209346771, 0.4514760673046112, 0.1074143797159195, 0.06469275057315826, 0.02181854657828808, 0.0381443127989769, 0.013274220749735832, 0.9920747876167297, 0.29277634620666504, 0.33035191893577576, 0.16635018587112427, 0.07162843644618988, 0.0469694659113884, 0.05616765096783638, 0.03581421822309494, 0.9984071850776672, 0.9986737966537476, 0.264676570892334, 0.03781094029545784, 0.6963514685630798, 0.9932022094726562, 0.9978383779525757, 0.990184485912323, 0.5203681588172913, 0.19019785523414612, 0.16796693205833435, 0.04363846778869629, 0.07739652693271637, 0.7644855976104736, 0.17254015803337097, 0.063707135617733, 0.35485848784446716, 0.6431809663772583, 0.07488545775413513, 0.23016266524791718, 0.4647303521633148, 0.08149299770593643, 0.14756840467453003, 0.993403971195221, 0.9918475151062012, 0.9942985773086548, 0.10727905482053757, 0.4437451958656311, 0.032044392079114914, 0.29118600487709045, 0.027864689007401466, 0.056425996124744415, 0.04040379822254181, 0.9970367550849915, 0.9974056482315063, 0.11313038319349289, 0.8851956725120544, 0.3432219922542572, 0.6560909748077393, 0.9993350505828857, 0.17523892223834991, 0.8233447670936584, 0.9961432218551636, 0.9976767301559448, 0.995136022567749, 0.9958176016807556, 0.21344193816184998, 0.784468412399292, 0.3017563223838806, 0.4437093138694763, 0.2533053159713745, 0.998884916305542, 0.9987471699714661, 0.022717846557497978, 0.5979337096214294, 0.24626146256923676, 0.13358093798160553, 0.9986264109611511, 0.8706943392753601, 0.12910296022891998, 0.5354979038238525, 0.24847103655338287, 0.11406105756759644, 0.08567966520786285, 0.01552943978458643, 0.4455975294113159, 0.536694347858429, 0.0176544189453125, 0.9857457280158997, 0.9963459372520447, 0.9967149496078491, 0.23796169459819794, 0.221577450633049, 0.3448494076728821, 0.06475678831338882, 0.06085577979683876, 0.06943800300359726, 0.2873227894306183, 0.30684956908226013, 0.19108359515666962, 0.20084699988365173, 0.01394770760089159, 0.9996925592422485, 0.9958006143569946, 0.06605885922908783, 0.13740243017673492, 0.11626359075307846, 0.6790850758552551, 0.9911132454872131, 0.16062109172344208, 0.8371766209602356, 0.7398595213890076, 0.2601297199726105, 0.9952232241630554, 0.9958367347717285, 0.9979815483093262, 0.9972972869873047, 0.9946634769439697, 0.19402337074279785, 0.2234208583831787, 0.2684969902038574, 0.11171042919158936, 0.06663428992033005, 0.060754794627428055, 0.07486558705568314, 0.9968191385269165, 0.9975115060806274, 0.9932546615600586, 0.3891032338142395, 0.2506459653377533, 0.09467631578445435, 0.10835786163806915, 0.06950226426124573, 0.03666654974222183, 0.05034809932112694, 0.19100505113601685, 0.05667182803153992, 0.3631194829940796, 0.18890610337257385, 0.01994008757174015, 0.1794607937335968, 0.9971693754196167, 0.9982602596282959, 0.997855544090271, 0.10499044507741928, 0.6369420289993286, 0.2554767429828644, 0.9933291077613831, 0.9991417527198792, 0.9991217851638794, 0.9975695610046387, 0.9970561861991882, 0.3952343463897705, 0.6041439771652222, 0.9977835416793823, 0.9854735732078552, 0.10814882069826126, 0.8361750245094299, 0.05407441034913063, 0.9972294569015503, 0.21566709876060486, 0.31188780069351196, 0.13824814558029175, 0.2897680997848511, 0.044239405542612076, 0.9938391447067261, 0.9591311812400818, 0.03933345526456833, 0.9957036375999451, 0.37738335132598877, 0.17937356233596802, 0.053579118102788925, 0.17983947694301605, 0.03913605213165283, 0.17098726332187653, 0.2646700143814087, 0.20298315584659576, 0.27008846402168274, 0.04001310467720032, 0.045014746487140656, 0.04418113827705383, 0.1329602152109146, 0.9671910405158997, 0.03274913132190704, 0.11889577656984329, 0.8811565041542053, 0.23640726506710052, 0.07431614398956299, 0.04213199019432068, 0.2135857790708542, 0.0708051472902298, 0.32886359095573425, 0.0339396595954895, 0.07388503104448318, 0.5171952247619629, 0.08723774552345276, 0.07121448963880539, 0.2127532809972763, 0.037387605756521225, 0.9978498816490173, 0.9960076212882996, 0.8838458061218262, 0.11533540487289429, 0.9989655613899231, 0.17503803968429565, 0.20028391480445862, 0.6244145631790161, 0.09910524636507034, 0.5904439687728882, 0.12981390953063965, 0.016052259132266045, 0.164710134267807, 0.9990971684455872, 0.9948915839195251, 0.9947408437728882, 0.9965339303016663, 0.15839307010173798, 0.5575019121170044, 0.14588835835456848, 0.13650982081890106, 0.16300810873508453, 0.1427900493144989, 0.5370422601699829, 0.1573217809200287, 0.997367799282074, 0.9990405440330505, 0.9991469979286194, 0.9986504316329956, 0.9959487318992615, 0.0883605033159256, 0.9116066098213196, 0.21634675562381744, 0.7829230427742004, 0.07361899316310883, 0.9260934591293335, 0.028620298951864243, 0.25828075408935547, 0.11517924815416336, 0.17730623483657837, 0.24013128876686096, 0.13891315460205078, 0.04118530824780464, 0.5809136033058167, 0.33643344044685364, 0.03575092926621437, 0.04496186971664429, 0.001873411238193512, 0.9959596395492554, 0.9961485266685486, 0.07019197195768356, 0.7409152984619141, 0.07409153133630753, 0.07409153133630753, 0.04094531759619713, 0.9971033334732056, 0.08640188723802567, 0.8479100465774536, 0.06541159749031067, 0.0898512527346611, 0.9092410206794739, 0.9959131479263306, 0.9900861978530884, 0.9965325593948364, 0.9950056672096252, 0.9969241619110107, 0.9981623291969299, 0.8135295510292053, 0.13624966144561768, 0.03307030722498894, 0.01719656027853489, 0.19627735018730164, 0.5432676672935486, 0.06729509681463242, 0.09323174506425858, 0.042059432715177536, 0.05818221718072891, 0.6801131367683411, 0.30533015727996826, 0.014414729550480843, 0.9985718131065369, 0.99649977684021, 0.9974774122238159, 0.9880720973014832, 0.8068966269493103, 0.128263920545578, 0.06296592205762863, 0.9972789883613586, 0.9939455986022949, 0.9996583461761475, 0.9959465265274048, 0.804214596748352, 0.06575339287519455, 0.12897782027721405, 0.9957184195518494, 0.9978526830673218, 0.9979715347290039, 0.9982248544692993, 0.9954737424850464, 0.9970065951347351, 0.06155286729335785, 0.10851072520017624, 0.2919001877307892, 0.017767837271094322, 0.3724900186061859, 0.1472192257642746, 0.18470145761966705, 0.18377096951007843, 0.34800174832344055, 0.2014501988887787, 0.05117672681808472, 0.03070603497326374, 0.9940689206123352, 0.9981549382209778, 0.9983574151992798, 0.9972755908966064, 0.9991613030433655, 0.9991438984870911, 0.3795647919178009, 0.06901177763938904, 0.548957347869873, 0.9954368472099304, 0.9989943504333496, 0.9951920509338379, 0.9963499903678894, 0.13178548216819763, 0.5605800151824951, 0.1524384319782257, 0.035405054688453674, 0.06589274108409882, 0.03147115930914879, 0.02261989563703537, 0.9895099997520447, 0.9908689260482788, 0.09541071206331253, 0.1664140373468399, 0.7388783097267151, 0.9981286525726318, 0.029820922762155533, 0.8648067712783813, 0.10502151399850845, 0.9987027049064636, 0.40945181250572205, 0.5892786383628845, 0.04451356083154678, 0.9555578231811523, 0.6618713736534119, 0.13330648839473724, 0.20415470004081726, 0.6886582374572754, 0.31133443117141724, 0.16629265248775482, 0.8314632177352905, 0.9910568594932556, 0.9954124689102173, 0.1722034364938736, 0.8271652460098267, 0.9986766576766968, 0.8151697516441345, 0.18195752799510956, 0.9977321624755859, 0.9970871806144714, 0.1489901840686798, 0.35606130957603455, 0.17634715139865875, 0.0702863335609436, 0.12962988018989563, 0.03956236690282822, 0.07954560965299606, 0.995933473110199, 0.2942808270454407, 0.2768435776233673, 0.06156863272190094, 0.0863252505660057, 0.13110242784023285, 0.10139449685811996, 0.048436861485242844, 0.9964102506637573, 0.9998170137405396, 0.8966805934906006, 0.10233854502439499, 0.11134910583496094, 0.20086504518985748, 0.44430476427078247, 0.07750771194696426, 0.032749734818935394, 0.09606589376926422, 0.03711636736989021, 0.14937637746334076, 0.8478118777275085, 0.9996373057365417, 0.9990115761756897, 0.997928261756897, 0.9969220161437988, 0.10049031674861908, 0.18254204094409943, 0.1170850470662117, 0.24615517258644104, 0.09219294786453247, 0.04148682579398155, 0.2212630808353424, 0.9408693313598633, 0.058804333209991455, 0.9974548816680908, 0.9976902604103088, 0.3401832580566406, 0.2536652982234955, 0.09195366501808167, 0.02310165949165821, 0.15061376988887787, 0.024234093725681305, 0.11596127599477768, 0.057376470416784286, 0.29070743918418884, 0.6502666473388672, 0.23525646328926086, 0.22859825193881989, 0.02041848562657833, 0.20729200541973114, 0.23525646328926086, 0.026632806286215782, 0.04616353288292885, 0.9966220259666443, 0.9957294464111328, 0.996812641620636, 0.9944589734077454, 0.9976650476455688, 0.9977031350135803, 0.9988049268722534, 0.9932942390441895, 0.9940685033798218, 0.9994993805885315, 0.9956051707267761, 0.9966759085655212, 0.5265718102455139, 0.4732055962085724, 0.9973430633544922, 0.9996493458747864, 0.0591939352452755, 0.1544189602136612, 0.087504081428051, 0.0849304273724556, 0.6099548935890198, 0.27210745215415955, 0.3489658534526825, 0.10788821429014206, 0.14846564829349518, 0.12220966070890427, 0.14376041293144226, 0.6860901117324829, 0.1704464703798294, 0.19912506639957428, 0.03961089998483658, 0.7611716389656067, 0.11018234491348267, 0.8910398483276367, 0.4457325339317322, 0.043699268251657486, 0.5094085931777954, 0.9994308352470398, 0.09468817710876465, 0.08877016603946686, 0.18740367889404297, 0.6292818784713745, 0.9998068809509277, 0.15309028327465057, 0.8457123637199402, 0.9970378875732422, 0.208862766623497, 0.3362114131450653, 0.1742810159921646, 0.038424160331487656, 0.10429415106773376, 0.10292185842990875, 0.03540512174367905, 0.2150324434041977, 0.7009230852127075, 0.08373859524726868, 0.9506179690361023, 0.04637160897254944, 0.9985502362251282, 0.9948933720588684, 0.27694398164749146, 0.2301485240459442, 0.19015967845916748, 0.09359089285135269, 0.19143591821193695, 0.017441939562559128, 0.21966803073883057, 0.7203819155693054, 0.05814741924405098, 0.99830561876297], \"Term\": [\"acceleration\", \"accurate\", \"acdelco\", \"adapter\", \"adapter\", \"air\", \"air\", \"alot\", \"amazon\", \"amazon\", \"amp\", \"anco\", \"app\", \"applicator\", \"area\", \"area\", \"area\", \"area\", \"arm\", \"automatic\", \"automatic\", \"ball\", \"bamboo\", \"bank\", \"battery\", \"beam\", \"bike\", \"bike\", \"bike\", \"bike\", \"black\", \"black\", \"black\", \"black\", \"blade\", \"block\", \"block\", \"blue\", \"blue\", \"bluetooth\", \"board\", \"board\", \"board\", \"bolt\", \"boot\", \"bosch\", \"bottle\", \"bottle\", \"box\", \"box\", \"bright\", \"brightness\", \"brush\", \"bucket\", \"bug\", \"bulb\", \"bumper\", \"cabin\", \"cable\", \"camco\", \"camera\", \"camper\", \"camper\", \"camping\", \"car\", \"car\", \"car\", \"car\", \"car\", \"cargo\", \"carpet\", \"catch\", \"cell\", \"chamois\", \"change\", \"change\", \"charge\", \"charger\", \"cheap\", \"cheap\", \"cheap\", \"cheap\", \"cheap\", \"chemical\", \"china\", \"chock\", \"cigarette\", \"clay\", \"clean\", \"clean\", \"clean\", \"clean\", \"cleaner\", \"cleaning\", \"clear\", \"clear\", \"clear\", \"clear\", \"clear\", \"cloth\", \"coat\", \"code\", \"color\", \"color\", \"color\", \"com\", \"compact\", \"compressor\", \"computer\", \"conditioner\", \"conditioner\", \"connector\", \"connector\", \"console\", \"contour\", \"coolant\", \"cord\", \"cost\", \"cost\", \"cost\", \"cost\", \"cover\", \"cover\", \"cup\", \"datum\", \"day\", \"day\", \"day\", \"day\", \"day\", \"day\", \"dead\", \"design\", \"design\", \"design\", \"design\", \"detailer\", \"device\", \"difference\", \"difference\", \"difference\", \"digital\", \"digital\", \"dirt\", \"dirt\", \"dish\", \"display\", \"dog\", \"dollar\", \"dollar\", \"dollar\", \"dome\", \"door\", \"double\", \"double\", \"double\", \"drip\", \"driving\", \"driving\", \"dry\", \"dry\", \"dry\", \"dump\", \"dust\", \"dust\", \"easy\", \"easy\", \"easy\", \"easy\", \"easy\", \"easy\", \"edge\", \"edge\", \"edge\", \"electrical\", \"emergency\", \"end\", \"end\", \"end\", \"end\", \"end\", \"engine\", \"engine\", \"extension\", \"feature\", \"feature\", \"feature\", \"feature\", \"filter\", \"finish\", \"finish\", \"fit\", \"fit\", \"fit\", \"fitting\", \"fitting\", \"floor\", \"floor\", \"fluid\", \"fog\", \"frame\", \"frame\", \"front\", \"front\", \"front\", \"front\", \"fuel\", \"function\", \"function\", \"funnel\", \"fuse\", \"gap\", \"gas\", \"gas\", \"gauge\", \"gear\", \"gel\", \"glass\", \"glass\", \"glove\", \"good\", \"good\", \"good\", \"good\", \"good\", \"good\", \"good\", \"grand\", \"great\", \"great\", \"great\", \"great\", \"great\", \"great\", \"great\", \"griot\", \"grit\", \"ground\", \"ground\", \"ground\", \"gun\", \"habit\", \"halogen\", \"hand\", \"hand\", \"hand\", \"hand\", \"hand\", \"handle\", \"handle\", \"handle\", \"headlight\", \"headlight\", \"heavy\", \"heavy\", \"heavy\", \"heavy\", \"heavy\", \"height\", \"helmet\", \"hid\", \"high\", \"high\", \"high\", \"high\", \"high\", \"high\", \"high\", \"hitch\", \"holder\", \"hole\", \"hole\", \"honda\", \"honda\", \"hose\", \"ice\", \"ice\", \"icon\", \"improvement\", \"indicator\", \"info\", \"information\", \"information\", \"install\", \"install\", \"install\", \"inverter\", \"iphone\", \"item\", \"item\", \"item\", \"item\", \"jack\", \"jeep\", \"jeep\", \"job\", \"job\", \"job\", \"job\", \"job\", \"kit\", \"kit\", \"kit\", \"knife\", \"label\", \"laptop\", \"large\", \"large\", \"large\", \"large\", \"large\", \"large\", \"last\", \"last\", \"last\", \"last\", \"last\", \"leather\", \"leg\", \"level\", \"level\", \"level\", \"level\", \"license\", \"lift\", \"lift\", \"light\", \"light\", \"limited\", \"link\", \"lint\", \"liquid\", \"list\", \"little\", \"little\", \"little\", \"little\", \"little\", \"little\", \"little\", \"local\", \"lock\", \"longevity\", \"lot\", \"lot\", \"lot\", \"lot\", \"lot\", \"lot\", \"lot\", \"low\", \"low\", \"low\", \"low\", \"low\", \"low\", \"map\", \"mat\", \"meguiar\", \"metal\", \"metal\", \"metal\", \"meter\", \"microfiber\", \"mile\", \"mileage\", \"mini\", \"mirror\", \"mirror\", \"mitt\", \"modern\", \"money\", \"money\", \"money\", \"monitor\", \"month\", \"month\", \"month\", \"month\", \"month\", \"motion\", \"mount\", \"mount\", \"mpg\", \"new\", \"new\", \"new\", \"new\", \"new\", \"new\", \"nice\", \"nice\", \"nice\", \"nice\", \"nice\", \"nice\", \"nice\", \"night\", \"night\", \"oil\", \"oil\", \"old\", \"old\", \"old\", \"old\", \"old\", \"old\", \"old\", \"one\", \"one\", \"one\", \"one\", \"one\", \"one\", \"outlet\", \"output\", \"pad\", \"pad\", \"paint\", \"panel\", \"panel\", \"panel\", \"part\", \"part\", \"part\", \"part\", \"part\", \"phone\", \"pin\", \"pink\", \"pipe\", \"place\", \"place\", \"place\", \"place\", \"plastic\", \"plastic\", \"plastic\", \"plastic\", \"plate\", \"plug\", \"polish\", \"port\", \"pound\", \"power\", \"power\", \"pressure\", \"pressure\", \"price\", \"price\", \"problem\", \"problem\", \"problem\", \"problem\", \"problem\", \"problem\", \"problem\", \"product\", \"product\", \"product\", \"product\", \"product\", \"psi\", \"pump\", \"purchase\", \"purchase\", \"purchase\", \"purchase\", \"purchase\", \"purple\", \"quality\", \"quality\", \"quality\", \"rain\", \"rain\", \"ramp\", \"rate\", \"reading\", \"reasonable\", \"receiver\", \"remote\", \"result\", \"result\", \"result\", \"result\", \"review\", \"review\", \"review\", \"review\", \"review\", \"review\", \"rubber\", \"rubber\", \"rubber\", \"rust\", \"scanner\", \"scent\", \"scissor\", \"screw\", \"screw\", \"screw\", \"sealant\", \"season\", \"seat\", \"seller\", \"service\", \"service\", \"service\", \"sewer\", \"shine\", \"shiny\", \"shipping\", \"shoe\", \"shower\", \"side\", \"side\", \"side\", \"side\", \"side\", \"side\", \"small\", \"small\", \"small\", \"small\", \"small\", \"small\", \"smart\", \"smell\", \"snow\", \"soap\", \"socket\", \"solar\", \"space\", \"space\", \"space\", \"sponge\", \"spray\", \"sprayer\", \"stand\", \"star\", \"star\", \"star\", \"star\", \"star\", \"star\", \"star\", \"stem\", \"sticker\", \"stock\", \"stock\", \"stock\", \"storage\", \"store\", \"store\", \"store\", \"strap\", \"streak\", \"streak\", \"strip\", \"strip\", \"stuff\", \"stuff\", \"stuff\", \"surface\", \"surface\", \"switch\", \"switch\", \"tablet\", \"tailgate\", \"tank\", \"tank\", \"tape\", \"temperature\", \"temperature\", \"tender\", \"terrible\", \"thing\", \"thing\", \"thing\", \"thing\", \"thing\", \"thing\", \"thing\", \"tie\", \"time\", \"time\", \"time\", \"time\", \"time\", \"time\", \"time\", \"tint\", \"tire\", \"tool\", \"tool\", \"top\", \"top\", \"top\", \"top\", \"top\", \"top\", \"top\", \"torque\", \"torque\", \"towel\", \"trailer\", \"transmission\", \"travel\", \"truck\", \"truck\", \"truck\", \"truck\", \"truck\", \"truck\", \"truck\", \"unit\", \"unit\", \"usage\", \"usb\", \"use\", \"use\", \"use\", \"use\", \"use\", \"use\", \"use\", \"valve\", \"valve\", \"valve\", \"vehicle\", \"vehicle\", \"vehicle\", \"vehicle\", \"vehicle\", \"vehicle\", \"vehicle\", \"vent\", \"vinyl\", \"visible\", \"vision\", \"visor\", \"volt\", \"voltage\", \"waffle\", \"walmart\", \"wash\", \"washer\", \"washing\", \"water\", \"water\", \"watt\", \"wax\", \"weather\", \"weather\", \"weather\", \"weather\", \"weather\", \"well\", \"well\", \"well\", \"well\", \"well\", \"wheel\", \"wheel\", \"wheel\", \"white\", \"white\", \"white\", \"wind\", \"wind\", \"window\", \"window\", \"window\", \"windshield\", \"winter\", \"winter\", \"winter\", \"winter\", \"wiper\", \"wire\", \"wire\", \"wiring\", \"work\", \"work\", \"work\", \"work\", \"work\", \"work\", \"work\", \"worth\", \"worth\", \"worth\", \"wrangler\", \"wrangler\", \"wrap\", \"wrench\", \"year\", \"year\", \"year\", \"year\", \"year\", \"year\", \"yellow\", \"yellow\", \"yellow\", \"zubie\"]}, \"R\": 30, \"lambda.step\": 0.01, \"plot.opts\": {\"xlab\": \"PC1\", \"ylab\": \"PC2\"}, \"topic.order\": [2, 1, 7, 4, 5, 3, 6]};\n",
       "\n",
       "function LDAvis_load_lib(url, callback){\n",
       "  var s = document.createElement('script');\n",
       "  s.src = url;\n",
       "  s.async = true;\n",
       "  s.onreadystatechange = s.onload = callback;\n",
       "  s.onerror = function(){console.warn(\"failed to load library \" + url);};\n",
       "  document.getElementsByTagName(\"head\")[0].appendChild(s);\n",
       "}\n",
       "\n",
       "if(typeof(LDAvis) !== \"undefined\"){\n",
       "   // already loaded: just create the visualization\n",
       "   !function(LDAvis){\n",
       "       new LDAvis(\"#\" + \"ldavis_el3873627808608813201087928809\", ldavis_el3873627808608813201087928809_data);\n",
       "   }(LDAvis);\n",
       "}else if(typeof define === \"function\" && define.amd){\n",
       "   // require.js is available: use it to load d3/LDAvis\n",
       "   require.config({paths: {d3: \"https://cdnjs.cloudflare.com/ajax/libs/d3/3.5.5/d3.min\"}});\n",
       "   require([\"d3\"], function(d3){\n",
       "      window.d3 = d3;\n",
       "      LDAvis_load_lib(\"https://cdn.rawgit.com/bmabey/pyLDAvis/files/ldavis.v1.0.0.js\", function(){\n",
       "        new LDAvis(\"#\" + \"ldavis_el3873627808608813201087928809\", ldavis_el3873627808608813201087928809_data);\n",
       "      });\n",
       "    });\n",
       "}else{\n",
       "    // require.js not available: dynamically load d3 & LDAvis\n",
       "    LDAvis_load_lib(\"https://cdnjs.cloudflare.com/ajax/libs/d3/3.5.5/d3.min.js\", function(){\n",
       "         LDAvis_load_lib(\"https://cdn.rawgit.com/bmabey/pyLDAvis/files/ldavis.v1.0.0.js\", function(){\n",
       "                 new LDAvis(\"#\" + \"ldavis_el3873627808608813201087928809\", ldavis_el3873627808608813201087928809_data);\n",
       "            })\n",
       "         });\n",
       "}\n",
       "</script>"
      ],
      "text/plain": [
       "PreparedData(topic_coordinates=              x         y  topics  cluster       Freq\n",
       "topic                                                \n",
       "1      0.063761 -0.145776       1        1  20.683102\n",
       "0      0.024027 -0.087756       2        1  20.586767\n",
       "6     -0.158312 -0.124818       3        1  13.838908\n",
       "3      0.199606  0.065674       4        1  13.621993\n",
       "4      0.159368  0.172746       5        1  13.103202\n",
       "2     -0.044697 -0.099283       6        1  10.884294\n",
       "5     -0.243754  0.219212       7        1   7.281735, topic_info=     Category         Freq        Term        Total  loglift  logprob\n",
       "152   Default  5132.000000       light  5132.000000  30.0000  30.0000\n",
       "38    Default  3126.000000     battery  3126.000000  29.0000  29.0000\n",
       "335   Default  2369.000000        tire  2369.000000  28.0000  28.0000\n",
       "939   Default  2180.000000       wiper  2180.000000  27.0000  27.0000\n",
       "966   Default  2171.000000       blade  2171.000000  26.0000  26.0000\n",
       "3     Default  9433.000000         car  9433.000000  25.0000  25.0000\n",
       "529   Default  2692.000000       towel  2692.000000  24.0000  24.0000\n",
       "316   Default  6405.000000     product  6405.000000  23.0000  23.0000\n",
       "2596  Default  1834.000000        bulb  1834.000000  22.0000  22.0000\n",
       "524   Default  2679.000000       water  2679.000000  21.0000  21.0000\n",
       "1326  Default  1697.000000     leather  1697.000000  20.0000  20.0000\n",
       "18    Default  2390.000000       price  2390.000000  19.0000  19.0000\n",
       "728   Default  1391.000000        hose  1391.000000  18.0000  18.0000\n",
       "525   Default  1903.000000         wax  1903.000000  17.0000  17.0000\n",
       "63    Default  1607.000000       power  1607.000000  16.0000  16.0000\n",
       "170   Default  1656.000000         oil  1656.000000  15.0000  15.0000\n",
       "1283  Default  1296.000000      bright  1296.000000  14.0000  14.0000\n",
       "76    Default   903.000000     trailer   903.000000  13.0000  13.0000\n",
       "50    Default   900.000000       gauge   900.000000  12.0000  12.0000\n",
       "762   Default  1405.000000      device  1405.000000  11.0000  11.0000\n",
       "1115  Default  1030.000000    pressure  1030.000000  10.0000  10.0000\n",
       "938   Default   978.000000  windshield   978.000000   9.0000   9.0000\n",
       "733   Default  1207.000000        unit  1207.000000   8.0000   8.0000\n",
       "30    Default  2048.000000     quality  2048.000000   7.0000   7.0000\n",
       "793   Default  1026.000000        plug  1026.000000   6.0000   6.0000\n",
       "978   Default  1276.000000      filter  1276.000000   5.0000   5.0000\n",
       "523   Default  1258.000000        wash  1258.000000   4.0000   4.0000\n",
       "97    Default  2466.000000       clean  2466.000000   3.0000   3.0000\n",
       "1201  Default   899.000000     charger   899.000000   2.0000   2.0000\n",
       "648   Default  1155.000000       paint  1155.000000   1.0000   1.0000\n",
       "...       ...          ...         ...          ...      ...      ...\n",
       "1529   Topic7    97.866753     walmart    98.584755   2.6125  -6.0118\n",
       "494    Topic7    95.921097      height    96.637421   2.6124  -6.0319\n",
       "4838   Topic7    93.614990        tint    94.338654   2.6121  -6.0562\n",
       "431    Topic7    90.652466       pound    91.370163   2.6119  -6.0883\n",
       "2164   Topic7    90.658913        info    91.382195   2.6119  -6.0883\n",
       "4823   Topic7    87.167160      camera    87.886345   2.6116  -6.1276\n",
       "1115   Topic7   807.319031    pressure  1030.752686   2.3755  -3.9017\n",
       "1451   Topic7   236.784409      camper   301.074158   2.3796  -5.1282\n",
       "866    Topic7   172.244614        lift   205.452469   2.4435  -5.4465\n",
       "1098   Topic7   339.545593       valve   522.862427   2.1881  -4.7678\n",
       "3888   Topic7   133.400574     digital   150.970093   2.4961  -5.7020\n",
       "151    Topic7   257.268829       level   378.450378   2.2338  -5.0453\n",
       "471    Topic7   302.378906       board   483.119385   2.1512  -4.8837\n",
       "135    Topic7   221.124619      ground   317.368469   2.2585  -5.1967\n",
       "1022   Topic7   213.647781      mirror   354.220215   2.1142  -5.2311\n",
       "506    Topic7   371.081177         air  1117.930664   1.5170  -4.6790\n",
       "114    Topic7   543.379700        easy  3683.984619   0.7059  -4.2976\n",
       "328    Topic7   175.467163       space   318.786163   2.0227  -5.4279\n",
       "110    Topic7   134.568008      double   175.364716   2.3550  -5.6933\n",
       "79     Topic7   512.226868         use  4415.267090   0.4657  -4.3566\n",
       "973    Topic7   204.426956        bike   508.725098   1.7081  -5.2752\n",
       "59     Topic7   318.574432        nice  2399.213867   0.6008  -4.8315\n",
       "35     Topic7   239.540146       truck  1084.681641   1.1095  -5.1167\n",
       "33     Topic7   232.379639        side  1575.881104   0.7056  -5.1470\n",
       "722    Topic7   197.820297       wheel  1161.655029   0.8496  -5.3080\n",
       "21     Topic7   224.937195        time  4645.222656  -0.4080  -5.1796\n",
       "13     Topic7   190.576630      little  2551.239014   0.0255  -5.3453\n",
       "205    Topic7   188.941544       thing  2375.995361   0.0881  -5.3539\n",
       "7      Topic7   178.136948       front   820.439758   1.0925  -5.4128\n",
       "9      Topic7   183.338165       great  5109.702637  -0.7078  -5.3840\n",
       "\n",
       "[435 rows x 6 columns], token_table=       Topic      Freq          Term\n",
       "term                                \n",
       "1651       4  0.996444  acceleration\n",
       "1166       7  0.997329      accurate\n",
       "8087       6  0.989548       acdelco\n",
       "2803       5  0.680038       adapter\n",
       "2803       6  0.317897       adapter\n",
       "506        2  0.667304           air\n",
       "506        7  0.331863           air\n",
       "1691       2  0.990447          alot\n",
       "85         1  0.036839        amazon\n",
       "85         2  0.962609        amazon\n",
       "86         5  0.998307           amp\n",
       "6342       6  0.994353          anco\n",
       "6942       2  0.999109           app\n",
       "3331       1  0.997650    applicator\n",
       "610        1  0.371721          area\n",
       "610        3  0.433228          area\n",
       "610        4  0.089142          area\n",
       "610        6  0.105187          area\n",
       "1583       6  0.998631           arm\n",
       "2874       4  0.201085     automatic\n",
       "2874       5  0.799048     automatic\n",
       "803        3  0.998030          ball\n",
       "16545      7  0.995929        bamboo\n",
       "3596       6  0.993513          bank\n",
       "38         5  0.999634       battery\n",
       "1874       4  0.997368          beam\n",
       "973        2  0.261438          bike\n",
       "973        4  0.098285          bike\n",
       "973        5  0.237849          bike\n",
       "973        7  0.401002          bike\n",
       "...      ...       ...           ...\n",
       "1199       5  0.187404        winter\n",
       "1199       6  0.629282        winter\n",
       "939        6  0.999807         wiper\n",
       "81         3  0.153090          wire\n",
       "81         5  0.845712          wire\n",
       "2612       5  0.997038        wiring\n",
       "220        1  0.208863          work\n",
       "220        2  0.336211          work\n",
       "220        3  0.174281          work\n",
       "220        4  0.038424          work\n",
       "220        5  0.104294          work\n",
       "220        6  0.102922          work\n",
       "220        7  0.035405          work\n",
       "222        1  0.215032         worth\n",
       "222        2  0.700923         worth\n",
       "222        4  0.083739         worth\n",
       "890        3  0.950618      wrangler\n",
       "890        4  0.046372      wrangler\n",
       "2140       3  0.998550          wrap\n",
       "2609       5  0.994893        wrench\n",
       "273        1  0.276944          year\n",
       "273        2  0.230149          year\n",
       "273        4  0.190160          year\n",
       "273        5  0.093591          year\n",
       "273        6  0.191436          year\n",
       "273        7  0.017442          year\n",
       "1517       1  0.219668        yellow\n",
       "1517       4  0.720382        yellow\n",
       "1517       5  0.058147        yellow\n",
       "16407      2  0.998306         zubie\n",
       "\n",
       "[706 rows x 3 columns], R=30, lambda_step=0.01, plot_opts={'xlab': 'PC1', 'ylab': 'PC2'}, topic_order=[2, 1, 7, 4, 5, 3, 6])"
      ]
     },
     "execution_count": 47,
     "metadata": {},
     "output_type": "execute_result"
    }
   ],
   "source": [
    "# Visualize the topics\n",
    "pyLDAvis.enable_notebook()\n",
    "vis = pyLDAvis.gensim.prepare(lda_model, doc_term_matrix, dictionary)\n",
    "vis"
   ]
  }
 ],
 "metadata": {
  "kernelspec": {
   "display_name": "Python 3",
   "language": "python",
   "name": "python3"
  },
  "language_info": {
   "codemirror_mode": {
    "name": "ipython",
    "version": 3
   },
   "file_extension": ".py",
   "mimetype": "text/x-python",
   "name": "python",
   "nbconvert_exporter": "python",
   "pygments_lexer": "ipython3",
   "version": "3.7.2"
  }
 },
 "nbformat": 4,
 "nbformat_minor": 2
}
