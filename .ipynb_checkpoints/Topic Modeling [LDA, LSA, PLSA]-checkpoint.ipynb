{
 "cells": [
  {
   "cell_type": "markdown",
   "metadata": {},
   "source": [
    "## Topic Modeling"
   ]
  },
  {
   "cell_type": "code",
   "execution_count": 18,
   "metadata": {},
   "outputs": [],
   "source": [
    "import pandas as pd\n",
    "import nltk\n",
    "from nltk.corpus import stopwords \n",
    "from nltk.stem.wordnet import WordNetLemmatizer\n",
    "import string\n",
    "import gensim\n",
    "from gensim import corpora, models\n",
    "import pandas as pd\n",
    "from nltk import FreqDist\n",
    "import re\n",
    "import spacy\n",
    "\n",
    "# libraries for visualization\n",
    "#import pyLDAvis\n",
    "#import pyLDAvis.gensim\n",
    "import matplotlib.pyplot as plt\n",
    "import seaborn as sns\n",
    "%matplotlib inline"
   ]
  },
  {
   "cell_type": "code",
   "execution_count": 6,
   "metadata": {
    "scrolled": false
   },
   "outputs": [
    {
     "name": "stderr",
     "output_type": "stream",
     "text": [
      "[nltk_data] Downloading package stopwords to\n",
      "[nltk_data]     C:\\Users\\Katie\\AppData\\Roaming\\nltk_data...\n",
      "[nltk_data]   Unzipping corpora\\stopwords.zip.\n"
     ]
    },
    {
     "data": {
      "text/plain": [
       "True"
      ]
     },
     "execution_count": 6,
     "metadata": {},
     "output_type": "execute_result"
    }
   ],
   "source": [
    "nltk.download('stopwords')\n",
    " # one time run"
   ]
  },
  {
   "cell_type": "code",
   "execution_count": 7,
   "metadata": {
    "scrolled": true
   },
   "outputs": [
    {
     "name": "stdout",
     "output_type": "stream",
     "text": [
      "Collecting en_core_web_sm==2.0.0 from https://github.com/explosion/spacy-models/releases/download/en_core_web_sm-2.0.0/en_core_web_sm-2.0.0.tar.gz#egg=en_core_web_sm==2.0.0\n",
      "  Downloading https://github.com/explosion/spacy-models/releases/download/en_core_web_sm-2.0.0/en_core_web_sm-2.0.0.tar.gz (37.4MB)\n",
      "Installing collected packages: en-core-web-sm\n",
      "  Running setup.py install for en-core-web-sm: started\n",
      "    Running setup.py install for en-core-web-sm: finished with status 'done'\n",
      "Successfully installed en-core-web-sm-2.0.0\n",
      "\n",
      "    Error: Couldn't link model to 'en'\n",
      "    Creating a symlink in spacy/data failed. Make sure you have the required\n",
      "    permissions and try re-running the command as admin, or use a\n",
      "    virtualenv. You can still import the model as a module and call its\n",
      "    load() method, or create the symlink manually.\n",
      "\n",
      "    C:\\Users\\Katie\\Anaconda3\\lib\\site-packages\\en_core_web_sm -->\n",
      "    C:\\Users\\Katie\\Anaconda3\\lib\\site-packages\\spacy\\data\\en\n",
      "\n",
      "\n",
      "    Creating a shortcut link for 'en' didn't work (maybe you don't have\n",
      "    admin permissions?), but you can still load the model via its full\n",
      "    package name: nlp = spacy.load('{name}')\n",
      "    Download successful but linking failed\n",
      "\n"
     ]
    }
   ],
   "source": [
    "#!python -m spacy download en\n",
    "import en_core_web_sm\n",
    "nlp = en_core_web_sm.load()"
   ]
  },
  {
   "cell_type": "markdown",
   "metadata": {},
   "source": [
    "## Data Pre-processing"
   ]
  },
  {
   "cell_type": "code",
   "execution_count": 107,
   "metadata": {
    "scrolled": false
   },
   "outputs": [
    {
     "data": {
      "text/html": [
       "<div>\n",
       "<style scoped>\n",
       "    .dataframe tbody tr th:only-of-type {\n",
       "        vertical-align: middle;\n",
       "    }\n",
       "\n",
       "    .dataframe tbody tr th {\n",
       "        vertical-align: top;\n",
       "    }\n",
       "\n",
       "    .dataframe thead th {\n",
       "        text-align: right;\n",
       "    }\n",
       "</style>\n",
       "<table border=\"1\" class=\"dataframe\">\n",
       "  <thead>\n",
       "    <tr style=\"text-align: right;\">\n",
       "      <th></th>\n",
       "      <th>product_id</th>\n",
       "      <th>star_rating</th>\n",
       "      <th>total_votes</th>\n",
       "      <th>helpful_votes</th>\n",
       "      <th>review_body</th>\n",
       "      <th>possentiment</th>\n",
       "      <th>neusentiment</th>\n",
       "      <th>negsentiment</th>\n",
       "    </tr>\n",
       "  </thead>\n",
       "  <tbody>\n",
       "    <tr>\n",
       "      <th>0</th>\n",
       "      <td>B0083PWAPW</td>\n",
       "      <td>4</td>\n",
       "      <td>0</td>\n",
       "      <td>0</td>\n",
       "      <td>OK, so it's not an iPad, but it does 95% of ev...</td>\n",
       "      <td>0.140</td>\n",
       "      <td>0.767</td>\n",
       "      <td>0.093</td>\n",
       "    </tr>\n",
       "    <tr>\n",
       "      <th>1</th>\n",
       "      <td>B00BWYRF7E</td>\n",
       "      <td>3</td>\n",
       "      <td>1</td>\n",
       "      <td>1</td>\n",
       "      <td>I have been a long time supporter of Kindles, ...</td>\n",
       "      <td>0.153</td>\n",
       "      <td>0.754</td>\n",
       "      <td>0.093</td>\n",
       "    </tr>\n",
       "    <tr>\n",
       "      <th>2</th>\n",
       "      <td>B0083Q04IQ</td>\n",
       "      <td>5</td>\n",
       "      <td>0</td>\n",
       "      <td>0</td>\n",
       "      <td>the kindle is almost my best friend!!!!  love,...</td>\n",
       "      <td>0.486</td>\n",
       "      <td>0.412</td>\n",
       "      <td>0.102</td>\n",
       "    </tr>\n",
       "    <tr>\n",
       "      <th>3</th>\n",
       "      <td>B0083PWAPW</td>\n",
       "      <td>1</td>\n",
       "      <td>1</td>\n",
       "      <td>1</td>\n",
       "      <td>So disappointed with this product.  We have ow...</td>\n",
       "      <td>0.162</td>\n",
       "      <td>0.686</td>\n",
       "      <td>0.152</td>\n",
       "    </tr>\n",
       "    <tr>\n",
       "      <th>4</th>\n",
       "      <td>B0051VVOB2</td>\n",
       "      <td>5</td>\n",
       "      <td>1</td>\n",
       "      <td>1</td>\n",
       "      <td>I love the graphics first of all. I love that ...</td>\n",
       "      <td>0.291</td>\n",
       "      <td>0.709</td>\n",
       "      <td>0.000</td>\n",
       "    </tr>\n",
       "  </tbody>\n",
       "</table>\n",
       "</div>"
      ],
      "text/plain": [
       "   product_id  star_rating  total_votes  helpful_votes  \\\n",
       "0  B0083PWAPW            4            0              0   \n",
       "1  B00BWYRF7E            3            1              1   \n",
       "2  B0083Q04IQ            5            0              0   \n",
       "3  B0083PWAPW            1            1              1   \n",
       "4  B0051VVOB2            5            1              1   \n",
       "\n",
       "                                         review_body  possentiment  \\\n",
       "0  OK, so it's not an iPad, but it does 95% of ev...         0.140   \n",
       "1  I have been a long time supporter of Kindles, ...         0.153   \n",
       "2  the kindle is almost my best friend!!!!  love,...         0.486   \n",
       "3  So disappointed with this product.  We have ow...         0.162   \n",
       "4  I love the graphics first of all. I love that ...         0.291   \n",
       "\n",
       "   neusentiment  negsentiment  \n",
       "0         0.767         0.093  \n",
       "1         0.754         0.093  \n",
       "2         0.412         0.102  \n",
       "3         0.686         0.152  \n",
       "4         0.709         0.000  "
      ]
     },
     "execution_count": 107,
     "metadata": {},
     "output_type": "execute_result"
    }
   ],
   "source": [
    "# change this to reviews.csv\n",
    "reviews_df = pd.read_csv('KindleFamilyData.csv')\n",
    "#reviews_df= reviews_df[['product_id','star_rating', 'review_body']]\n",
    "reviews_body = \"review_body\" # set review text column name here \n",
    "reviews_df.head()"
   ]
  },
  {
   "cell_type": "code",
   "execution_count": 72,
   "metadata": {},
   "outputs": [
    {
     "data": {
      "text/plain": [
       "0      OK, so it's not an iPad, but it does 95% of ev...\n",
       "1      I have been a long time supporter of Kindles, ...\n",
       "2      the kindle is almost my best friend!!!!  love,...\n",
       "3      So disappointed with this product.  We have ow...\n",
       "4      I love the graphics first of all. I love that ...\n",
       "5      I have to say that I never intended to get a k...\n",
       "6      This item is good for a reader of all books. I...\n",
       "7      Pretty much the whole Amazon Market sucks beca...\n",
       "8      Great graphics & picture quality, both picture...\n",
       "9      this is my first tablet and I love it. I alrea...\n",
       "10     I love this device, it is SO much better than ...\n",
       "11     I have owned and enjoyed the 7 inch, Fire and ...\n",
       "12     I chose this rating cause this is how I feel. ...\n",
       "13     Love my Kindle Fire, had to buy one for a frie...\n",
       "14     ordered this as holiday gift for me. love it, ...\n",
       "15     I have been an iOS user since the very first i...\n",
       "16     I bought this for my daughter for Christmas an...\n",
       "17     Its perfectic for me I like to read and play d...\n",
       "18     It is easy to use, but I would like it if you ...\n",
       "19     the Kindle is fine for email reading books and...\n",
       "20     I'm in love with my kindle fire.  I wish it ha...\n",
       "21     I bought the Fire as a Christmas present to my...\n",
       "22     If you read at all you need a Kindle. It is ea...\n",
       "23     I have both an iPad and a kindle fire. They bo...\n",
       "24     I recently passed 30 years at work and one of ...\n",
       "25     I was surprised to find that my Kindle Fire ha...\n",
       "26     With all the hype on this product, I bought it...\n",
       "27     I bought the Kindle Fire for my husband who ha...\n",
       "28     It is great to read and play games on the kind...\n",
       "29     I have just purchased my 4th Kindle. I am expe...\n",
       "                             ...                        \n",
       "565    The perfect tablet :) I use it everyday.  I wa...\n",
       "566    I had one of the first versions of the Fire th...\n",
       "567    Good morning,  Thanks for the opportunity to p...\n",
       "568    I read all the negative reviews about, the kin...\n",
       "569    On the Kindle HDX product page, just under the...\n",
       "570    I hate to be so critical..... but the screen s...\n",
       "571    Nice tablet but not an ipad! Poor selection of...\n",
       "572    I purchased the K-Fire because of the color, b...\n",
       "573    it would be much easier to use  if there were ...\n",
       "574    I love, love, love my Kindle Fire. I have foun...\n",
       "575    I was hoping this $200 device would be a nice ...\n",
       "576    I love my kindle for the ease of having every ...\n",
       "577    We had a gen  1 that failed. This is better th...\n",
       "578    This was a gift for my daughter.  I went throu...\n",
       "579    All very well if you live in the US. What abou...\n",
       "580    My mom is very pleased with her new kindle! sh...\n",
       "581    The Kindle Fire HDX 7&#34; does everything an ...\n",
       "582    I wasn't sure if my daughter at 13 would enjoy...\n",
       "583    After two months, four replacements, and Kindl...\n",
       "584    We bought two to give as Christmas presents th...\n",
       "585    I love my KINDLE FIRE HD!!!! I upgraded from t...\n",
       "586    Pros:  definition very sharp<br />Cons:  batte...\n",
       "587    Great buy and got fast shipping, grandkids lov...\n",
       "588    I like the Kindle Fire, but I did have a probl...\n",
       "589    I love my Kindle Fire HD.  However, I do have ...\n",
       "590    I love my kindle. Initially I bought it to put...\n",
       "591    I own a 3G Kindle which is great, and the Kind...\n",
       "592    I was pleased to purchase a Kindle Fire for my...\n",
       "593    Great alternative to the iPad! Works great for...\n",
       "594    Can't find really helpful apps to download.<br...\n",
       "Name: review_body, Length: 595, dtype: object"
      ]
     },
     "execution_count": 72,
     "metadata": {},
     "output_type": "execute_result"
    }
   ],
   "source": [
    "reviews_df['review_body']"
   ]
  },
  {
   "cell_type": "code",
   "execution_count": 108,
   "metadata": {},
   "outputs": [],
   "source": [
    "# function to plot most frequent terms\n",
    "def freq_words(x, terms = 30):\n",
    "    all_words = ' '.join([text for text in x])\n",
    "    all_words = all_words.split()\n",
    "\n",
    "    fdist = FreqDist(all_words)\n",
    "    words_df = pd.DataFrame({'word':list(fdist.keys()), 'count':list(fdist.values())})\n",
    "\n",
    "    # selecting top 20 most frequent words\n",
    "    d = words_df.nlargest(columns=\"count\", n = terms) \n",
    "    plt.figure(figsize=(20,5))\n",
    "    ax = sns.barplot(data=d, x= \"word\", y = \"count\")\n",
    "    ax.set(ylabel = 'Count')\n",
    "    plt.show()"
   ]
  },
  {
   "cell_type": "code",
   "execution_count": 112,
   "metadata": {},
   "outputs": [],
   "source": [
    "# remove unwanted characters, numbers and symbols\n",
    "reviews_df[reviews_body] = reviews_df[reviews_body].str.replace(\"[^a-zA-Z#]\", \" \")\n",
    "stop_words = stopwords.words('english')\n",
    "\n",
    "# add useless verbs to stop_words\n",
    "stop_words += ['get','gets','got','use','would']\n",
    "\n",
    "# function to remove stopwords\n",
    "def remove_stopwords(rev):\n",
    "    rev_new = \" \".join([i for i in rev if i not in stop_words])\n",
    "    return rev_new\n",
    "\n",
    "# remove short words (length < 3)\n",
    "reviews_df[reviews_body] = reviews_df[reviews_body].apply(lambda x: ' '.join([w for w in x.split() if len(w)>2]))\n",
    "\n",
    "# remove really long words (length > 10)\n",
    "reviews_df[reviews_body] = reviews_df[reviews_body].apply(lambda x: ' '.join([w for w in x.split() if len(w)<11]))\n",
    "\n",
    "# remove stopwords from the text\n",
    "reviews = [remove_stopwords(r.split()) for r in reviews_df[reviews_body]]\n",
    "\n",
    "# make entire text lowercase\n",
    "reviews = [r.lower() for r in reviews]"
   ]
  },
  {
   "cell_type": "code",
   "execution_count": 114,
   "metadata": {},
   "outputs": [],
   "source": [
    "reviews_df['reviews']= reviews"
   ]
  },
  {
   "cell_type": "code",
   "execution_count": 75,
   "metadata": {},
   "outputs": [
    {
     "data": {
      "image/png": "[encoded data removed]",
      "text/plain": [
       "<Figure size 1440x360 with 1 Axes>"
      ]
     },
     "metadata": {
      "needs_background": "light"
     },
     "output_type": "display_data"
    }
   ],
   "source": [
    "freq_words(reviews, 35)"
   ]
  },
  {
   "cell_type": "code",
   "execution_count": 76,
   "metadata": {},
   "outputs": [
    {
     "name": "stdout",
     "output_type": "stream",
     "text": [
      "['long', 'time', 'supporter', 'kindles', 'went', 'gen', 'kindle', 'fire', 'one', 'while', 'display', 'bright', 'better', 'gen', 'fire', 'prefer', 'gen', 'way', 'content', 'organized', 'home', 'screen']\n",
      "['time', 'supporter', 'kindle', 'go', 'display', 'prefer', 'way', 'content', 'organize', 'home', 'screen']\n"
     ]
    }
   ],
   "source": [
    "# lemmatization\n",
    "\n",
    "import en_core_web_sm\n",
    "nlp = en_core_web_sm.load(disable=['parser', 'ner'])\n",
    "\n",
    "\n",
    "def lemmatization(texts, tags=[ 'NOUN','ADJECTIVE','VERB']): # use verbs, adjectives and nouns \n",
    "    output = []\n",
    "    for sent in texts:\n",
    "        doc = nlp(\" \".join(sent)) \n",
    "        output.append([token.lemma_ for token in doc if token.pos_ in tags])\n",
    "    return output\n",
    "\n",
    "tokenized_reviews = pd.Series(reviews).apply(lambda x: x.split())\n",
    "print(tokenized_reviews[1])\n",
    "\n",
    "# delete most common words, such as relating the to product's name\n",
    "def delete_product_name(token_list):\n",
    "    return [x for x in token_list if x not in ['kindle','fire','amazon', 'device', 'tablet', 'book', 'thing']]\n",
    "tokenized_reviews = tokenized_reviews.apply(delete_product_name)\n",
    "\n",
    "reviews_2 = lemmatization(tokenized_reviews)\n",
    "print(reviews_2[1]) # print lemmatized review"
   ]
  },
  {
   "cell_type": "code",
   "execution_count": 77,
   "metadata": {},
   "outputs": [
    {
     "data": {
      "text/plain": [
       "['time',\n",
       " 'supporter',\n",
       " 'kindle',\n",
       " 'go',\n",
       " 'display',\n",
       " 'prefer',\n",
       " 'way',\n",
       " 'content',\n",
       " 'organize',\n",
       " 'home',\n",
       " 'screen']"
      ]
     },
     "execution_count": 77,
     "metadata": {},
     "output_type": "execute_result"
    }
   ],
   "source": [
    "[x for x in reviews_2[1] if x not in stop_words]"
   ]
  },
  {
   "cell_type": "code",
   "execution_count": 78,
   "metadata": {},
   "outputs": [
    {
     "data": {
      "image/png": "[encoded data removed]",
      "text/plain": [
       "<Figure size 1440x360 with 1 Axes>"
      ]
     },
     "metadata": {
      "needs_background": "light"
     },
     "output_type": "display_data"
    }
   ],
   "source": [
    "# replace review column with the cleaned version\n",
    "reviews_3 = []\n",
    "for i in range(len(reviews_2)):\n",
    "    reviews_3.append(' '.join(reviews_2[i]))\n",
    "\n",
    "reviews_df['reviews'] = reviews_3\n",
    "\n",
    "# Visualize\n",
    "freq_words(reviews_df['reviews'], 35)"
   ]
  },
  {
   "cell_type": "markdown",
   "metadata": {},
   "source": [
    "## Modelling"
   ]
  },
  {
   "cell_type": "markdown",
   "metadata": {},
   "source": [
    "### Latent Dirichlet Allocation (LDA)"
   ]
  },
  {
   "cell_type": "code",
   "execution_count": 82,
   "metadata": {},
   "outputs": [
    {
     "data": {
      "image/png": "[encoded data removed]",
      "text/plain": [
       "<Figure size 432x288 with 1 Axes>"
      ]
     },
     "metadata": {
      "needs_background": "light"
     },
     "output_type": "display_data"
    }
   ],
   "source": [
    "from gensim.models.coherencemodel import CoherenceModel\n",
    "dictionary = corpora.Dictionary(reviews_2)\n",
    "doc_term_matrix = [dictionary.doc2bow(rev) for rev in reviews_2]\n",
    "# Creating the object for LDA model using gensim library\n",
    "LDA = gensim.models.ldamodel.LdaModel\n",
    "\n",
    "# check coherence score to decide number of topics \n",
    "c_v_score = []\n",
    "for i in range(2,11):\n",
    "    lda_model = LDA(corpus = doc_term_matrix, id2word = dictionary, num_topics = i, random_state = 44,\n",
    "                chunksize = 1000, passes = 50)\n",
    "    c_v_score.append(CoherenceModel(model=lda_model, texts=reviews_2, dictionary=dictionary, coherence='c_v').get_coherence())\n",
    "\n",
    "# plot the score\n",
    "# plot the coherence score\n",
    "x = range(2, 11)\n",
    "plt.plot(x, c_v_score)\n",
    "plt.xlabel(\"Number of Topics\")\n",
    "plt.ylabel(\"Coherence score\")\n",
    "plt.legend((\"coherence_values\"), loc='best')\n",
    "plt.show()"
   ]
  },
  {
   "cell_type": "code",
   "execution_count": 83,
   "metadata": {},
   "outputs": [],
   "source": [
    "# train the model on optimal number of topics \n",
    "lda_model = LDA(corpus = doc_term_matrix, id2word = dictionary, num_topics = c_v_score.index(max(c_v_score))+1, random_state = 44,\n",
    "                chunksize = 1000, passes = 50)"
   ]
  },
  {
   "cell_type": "code",
   "execution_count": 84,
   "metadata": {},
   "outputs": [
    {
     "data": {
      "text/plain": [
       "[(0,\n",
       "  '0.017*\"love\" + 0.016*\"problem\" + 0.013*\"product\" + 0.013*\"buy\" + 0.011*\"say\" + 0.011*\"use\" + 0.010*\"order\" + 0.009*\"charge\" + 0.008*\"receive\" + 0.008*\"day\"'),\n",
       " (1,\n",
       "  '0.028*\"love\" + 0.018*\"app\" + 0.018*\"book\" + 0.016*\"read\" + 0.013*\"want\" + 0.011*\"movie\" + 0.011*\"buy\" + 0.011*\"purchase\" + 0.010*\"use\" + 0.010*\"screen\"'),\n",
       " (2,\n",
       "  '0.025*\"read\" + 0.019*\"work\" + 0.018*\"buy\" + 0.015*\"book\" + 0.015*\"app\" + 0.015*\"love\" + 0.012*\"want\" + 0.009*\"screen\" + 0.009*\"time\" + 0.008*\"think\"'),\n",
       " (3,\n",
       "  '0.021*\"app\" + 0.017*\"camera\" + 0.015*\"charge\" + 0.011*\"video\" + 0.011*\"could\" + 0.011*\"hdx\" + 0.010*\"screen\" + 0.009*\"user\" + 0.009*\"take\" + 0.008*\"use\"'),\n",
       " (4,\n",
       "  '0.019*\"product\" + 0.019*\"buy\" + 0.012*\"page\" + 0.010*\"screen\" + 0.009*\"turn\" + 0.009*\"game\" + 0.009*\"price\" + 0.008*\"click\" + 0.008*\"app\" + 0.007*\"touch\"')]"
      ]
     },
     "execution_count": 84,
     "metadata": {},
     "output_type": "execute_result"
    }
   ],
   "source": [
    "# get the topics\n",
    "lda_model.print_topics()"
   ]
  },
  {
   "cell_type": "code",
   "execution_count": 21,
   "metadata": {},
   "outputs": [
    {
     "ename": "NameError",
     "evalue": "name 'pyLDAvis' is not defined",
     "output_type": "error",
     "traceback": [
      "\u001b[1;31m---------------------------------------------------------------------------\u001b[0m",
      "\u001b[1;31mNameError\u001b[0m                                 Traceback (most recent call last)",
      "\u001b[1;32m<ipython-input-21-2432c1c90c4e>\u001b[0m in \u001b[0;36m<module>\u001b[1;34m\u001b[0m\n\u001b[0;32m      1\u001b[0m \u001b[1;31m# Visualize the topics\u001b[0m\u001b[1;33m\u001b[0m\u001b[1;33m\u001b[0m\u001b[1;33m\u001b[0m\u001b[0m\n\u001b[1;32m----> 2\u001b[1;33m \u001b[0mpyLDAvis\u001b[0m\u001b[1;33m.\u001b[0m\u001b[0menable_notebook\u001b[0m\u001b[1;33m(\u001b[0m\u001b[1;33m)\u001b[0m\u001b[1;33m\u001b[0m\u001b[1;33m\u001b[0m\u001b[0m\n\u001b[0m\u001b[0;32m      3\u001b[0m \u001b[0mvis\u001b[0m \u001b[1;33m=\u001b[0m \u001b[0mpyLDAvis\u001b[0m\u001b[1;33m.\u001b[0m\u001b[0mgensim\u001b[0m\u001b[1;33m.\u001b[0m\u001b[0mprepare\u001b[0m\u001b[1;33m(\u001b[0m\u001b[0mlda_model\u001b[0m\u001b[1;33m,\u001b[0m \u001b[0mdoc_term_matrix\u001b[0m\u001b[1;33m,\u001b[0m \u001b[0mdictionary\u001b[0m\u001b[1;33m)\u001b[0m\u001b[1;33m\u001b[0m\u001b[1;33m\u001b[0m\u001b[0m\n\u001b[0;32m      4\u001b[0m \u001b[0mvis\u001b[0m\u001b[1;33m\u001b[0m\u001b[1;33m\u001b[0m\u001b[0m\n",
      "\u001b[1;31mNameError\u001b[0m: name 'pyLDAvis' is not defined"
     ]
    }
   ],
   "source": [
    "# Visualize the topics\n",
    "pyLDAvis.enable_notebook()\n",
    "vis = pyLDAvis.gensim.prepare(lda_model, doc_term_matrix, dictionary)\n",
    "vis"
   ]
  },
  {
   "cell_type": "markdown",
   "metadata": {},
   "source": [
    "### Latent Semantic Indexing (LSA)"
   ]
  },
  {
   "cell_type": "markdown",
   "metadata": {},
   "source": [
    "Importing modules and defining functions"
   ]
  },
  {
   "cell_type": "code",
   "execution_count": 85,
   "metadata": {},
   "outputs": [],
   "source": [
    "#import modules\n",
    "import os.path\n",
    "from gensim import corpora\n",
    "from gensim.models import LsiModel\n",
    "from nltk.tokenize import RegexpTokenizer\n",
    "from nltk.corpus import stopwords\n",
    "from nltk.stem.porter import PorterStemmer\n",
    "from gensim.models.coherencemodel import CoherenceModel\n",
    "import matplotlib.pyplot as plt\n",
    "\n",
    "# functions\n",
    "def prepare_corpus(doc_clean):\n",
    "    \"\"\"\n",
    "    Input  : clean document\n",
    "    Purpose: create term dictionary of our courpus and Converting list of documents (corpus) into Document Term Matrix\n",
    "    Output : term dictionary and Document Term Matrix\n",
    "    \"\"\"\n",
    "    # Creating the term dictionary of our courpus, where every unique term is assigned an index. dictionary = corpora.Dictionary(doc_clean)\n",
    "    dictionary = corpora.Dictionary(doc_clean)\n",
    "    # Converting list of documents (corpus) into Document Term Matrix using dictionary prepared above.\n",
    "    doc_term_matrix = [dictionary.doc2bow(doc) for doc in doc_clean]\n",
    "    # generate LDA model\n",
    "    return dictionary,doc_term_matrix\n",
    "\n",
    "# function for creating lsa model\n",
    "def create_gensim_lsa_model(doc_clean,number_of_topics,words):\n",
    "    \"\"\"\n",
    "    Input  : clean document, number of topics and number of words associated with each topic\n",
    "    Purpose: create LSA model using gensim\n",
    "    Output : return LSA model\n",
    "    \"\"\"\n",
    "    dictionary,doc_term_matrix=prepare_corpus(doc_clean)\n",
    "    # generate LSA model\n",
    "    lsamodel = LsiModel(doc_term_matrix, num_topics=number_of_topics, id2word = dictionary)  # train model\n",
    "    print(lsamodel.print_topics(num_topics=number_of_topics, num_words=words))\n",
    "    return lsamodel\n",
    "\n",
    "# function for computing coherence values\n",
    "def compute_coherence_values(dictionary, doc_term_matrix, doc_clean, stop, start=2, step=3):\n",
    "    \"\"\"\n",
    "    Input   : dictionary : Gensim dictionary\n",
    "              corpus : Gensim corpus\n",
    "              texts : List of input texts\n",
    "              stop : Max num of topics\n",
    "    purpose : Compute c_v coherence for various number of topics\n",
    "    Output  : model_list : List of LSA topic models\n",
    "              coherence_values : Coherence values corresponding to the LDA model with respective number of topics\n",
    "    \"\"\"\n",
    "    coherence_values = []\n",
    "    model_list = []\n",
    "    for num_topics in range(start, stop, step):\n",
    "        # generate LSA model\n",
    "        model = LsiModel(doc_term_matrix, num_topics=num_topics, id2word = dictionary)  # train model\n",
    "        model_list.append(model)\n",
    "        coherencemodel = CoherenceModel(model=model, texts=doc_clean, dictionary=dictionary, coherence='c_v')\n",
    "        coherence_values.append(coherencemodel.get_coherence())\n",
    "    return model_list, coherence_values\n",
    "\n",
    "# function for ploting coherence value\n",
    "def plot_graph(doc_clean,start, stop, step):\n",
    "    dictionary,doc_term_matrix=prepare_corpus(doc_clean)\n",
    "    model_list, coherence_values = compute_coherence_values(dictionary, doc_term_matrix,doc_clean,\n",
    "                                                            stop, start, step)\n",
    "    # Show graph\n",
    "    x = range(start, stop, step)\n",
    "    plt.plot(x, coherence_values)\n",
    "    plt.xlabel(\"Number of Topics\")\n",
    "    plt.ylabel(\"Coherence score\")\n",
    "    plt.legend((\"coherence_values\"), loc='best')\n",
    "    plt.show()"
   ]
  },
  {
   "cell_type": "markdown",
   "metadata": {},
   "source": [
    "Building model"
   ]
  },
  {
   "cell_type": "code",
   "execution_count": 86,
   "metadata": {},
   "outputs": [
    {
     "data": {
      "image/png": "[encoded data removed]",
      "text/plain": [
       "<Figure size 432x288 with 1 Axes>"
      ]
     },
     "metadata": {
      "needs_background": "light"
     },
     "output_type": "display_data"
    }
   ],
   "source": [
    "# plot the coherence plot \n",
    "start,stop,step=2,12,1\n",
    "plot_graph(reviews_2,start,stop,step)"
   ]
  },
  {
   "cell_type": "code",
   "execution_count": 92,
   "metadata": {},
   "outputs": [
    {
     "name": "stdout",
     "output_type": "stream",
     "text": [
      "[(0, '0.350*\"app\" + 0.324*\"read\" + 0.221*\"book\" + 0.213*\"work\" + 0.192*\"want\" + 0.186*\"buy\" + 0.172*\"screen\" + 0.168*\"love\" + 0.146*\"use\" + 0.141*\"make\"'), (1, '0.592*\"read\" + -0.496*\"app\" + 0.207*\"book\" + 0.186*\"page\" + -0.159*\"work\" + -0.132*\"charge\" + 0.113*\"love\" + -0.110*\"issue\" + 0.101*\"screen\" + 0.098*\"reader\"'), (2, '0.519*\"buy\" + 0.271*\"charge\" + -0.256*\"app\" + -0.245*\"screen\" + -0.231*\"issue\" + 0.166*\"work\" + 0.165*\"charger\" + -0.131*\"store\" + -0.125*\"want\" + 0.122*\"love\"')]\n"
     ]
    }
   ],
   "source": [
    "# train the model \n",
    "number_of_topics=3\n",
    "words=10\n",
    "clean_text = reviews_2\n",
    "model=create_gensim_lsa_model(clean_text,number_of_topics,words)"
   ]
  },
  {
   "cell_type": "code",
   "execution_count": 93,
   "metadata": {},
   "outputs": [
    {
     "data": {
      "text/plain": [
       "[(0,\n",
       "  '0.350*\"app\" + 0.324*\"read\" + 0.221*\"book\" + 0.213*\"work\" + 0.192*\"want\" + 0.186*\"buy\" + 0.172*\"screen\" + 0.168*\"love\" + 0.146*\"use\" + 0.141*\"make\"'),\n",
       " (1,\n",
       "  '0.592*\"read\" + -0.496*\"app\" + 0.207*\"book\" + 0.186*\"page\" + -0.159*\"work\" + -0.132*\"charge\" + 0.113*\"love\" + -0.110*\"issue\" + 0.101*\"screen\" + 0.098*\"reader\"'),\n",
       " (2,\n",
       "  '0.519*\"buy\" + 0.271*\"charge\" + -0.256*\"app\" + -0.245*\"screen\" + -0.231*\"issue\" + 0.166*\"work\" + 0.165*\"charger\" + -0.131*\"store\" + -0.125*\"want\" + 0.122*\"love\"')]"
      ]
     },
     "execution_count": 93,
     "metadata": {},
     "output_type": "execute_result"
    }
   ],
   "source": [
    "# print topics \n",
    "model.print_topics()"
   ]
  },
  {
   "cell_type": "markdown",
   "metadata": {},
   "source": [
    "### Probabilistic latent semantic analysis (PLSA)"
   ]
  },
  {
   "cell_type": "code",
   "execution_count": 95,
   "metadata": {},
   "outputs": [
    {
     "data": {
      "text/html": [
       "<div>\n",
       "<style scoped>\n",
       "    .dataframe tbody tr th:only-of-type {\n",
       "        vertical-align: middle;\n",
       "    }\n",
       "\n",
       "    .dataframe tbody tr th {\n",
       "        vertical-align: top;\n",
       "    }\n",
       "\n",
       "    .dataframe thead th {\n",
       "        text-align: right;\n",
       "    }\n",
       "</style>\n",
       "<table border=\"1\" class=\"dataframe\">\n",
       "  <thead>\n",
       "    <tr style=\"text-align: right;\">\n",
       "      <th></th>\n",
       "      <th>Topic # 01</th>\n",
       "      <th>Topic # 02</th>\n",
       "      <th>Topic # 03</th>\n",
       "      <th>Topic # 04</th>\n",
       "    </tr>\n",
       "  </thead>\n",
       "  <tbody>\n",
       "    <tr>\n",
       "      <th>0</th>\n",
       "      <td>love</td>\n",
       "      <td>everything</td>\n",
       "      <td>read</td>\n",
       "      <td>camera</td>\n",
       "    </tr>\n",
       "    <tr>\n",
       "      <th>1</th>\n",
       "      <td>print</td>\n",
       "      <td>hop</td>\n",
       "      <td>gift</td>\n",
       "      <td>look</td>\n",
       "    </tr>\n",
       "    <tr>\n",
       "      <th>2</th>\n",
       "      <td>think</td>\n",
       "      <td>offer</td>\n",
       "      <td>buy</td>\n",
       "      <td>want</td>\n",
       "    </tr>\n",
       "    <tr>\n",
       "      <th>3</th>\n",
       "      <td>recommend</td>\n",
       "      <td>money</td>\n",
       "      <td>use</td>\n",
       "      <td>price</td>\n",
       "    </tr>\n",
       "    <tr>\n",
       "      <th>4</th>\n",
       "      <td>book</td>\n",
       "      <td>own</td>\n",
       "      <td>book</td>\n",
       "      <td>picture</td>\n",
       "    </tr>\n",
       "  </tbody>\n",
       "</table>\n",
       "</div>"
      ],
      "text/plain": [
       "  Topic # 01  Topic # 02 Topic # 03 Topic # 04\n",
       "0       love  everything       read     camera\n",
       "1      print         hop       gift       look\n",
       "2      think       offer        buy       want\n",
       "3  recommend       money        use      price\n",
       "4       book         own       book    picture"
      ]
     },
     "execution_count": 95,
     "metadata": {},
     "output_type": "execute_result"
    }
   ],
   "source": [
    "# import packages\n",
    "from sklearn.feature_extraction.text import CountVectorizer, TfidfTransformer;\n",
    "from sklearn.decomposition import NMF;\n",
    "from sklearn.preprocessing import normalize;\n",
    "# vectorize the reviews\n",
    "vectorizer = CountVectorizer(analyzer='word', max_features=5000)\n",
    "x_counts = vectorizer.fit_transform(reviews_3)\n",
    "\n",
    "# transform it to tfidf scores \n",
    "transformer = TfidfTransformer(smooth_idf=False)\n",
    "x_tfidf = transformer.fit_transform(x_counts)\n",
    "\n",
    "# normalize the matrix \n",
    "xtfidf_norm = normalize(x_tfidf, norm='l1', axis=1)\n",
    "\n",
    "# calculate the coherence score for each topic \n",
    "num_topics=[1,2,3,4,5,6,7,8,9,10]\n",
    "c_v_score = []\n",
    "for i in num_topics:\n",
    "    #obtain a NMF model.\n",
    "    model = NMF(n_components=i, init='nndsvd')\n",
    "    #fit the model\n",
    "    model.fit(xtfidf_norm)\n",
    "    # find the coherence score\n",
    "    c_v_score.append(CoherenceModel(model=lda_model, texts=reviews_2, dictionary=dictionary, coherence='c_v').get_coherence())\n",
    "\n",
    "num_topics = max(c_v_score.index(max(c_v_score))+1,4)\n",
    "plsa_model = NMF(n_components=num_topics, init='nndsvd')\n",
    "plsa_model.fit(xtfidf_norm)\n",
    "\n",
    "# get words tables\n",
    "def get_nmf_topics(model, n_top_words):\n",
    "    \n",
    "    #the word ids obtained need to be reverse-mapped to the words so we can print the topic names.\n",
    "    feat_names = vectorizer.get_feature_names()\n",
    "    \n",
    "    word_dict = {};\n",
    "    for i in range(num_topics):\n",
    "        \n",
    "        #for each topic, obtain the largest values, and add the words they map to into the dictionary.\n",
    "        words_ids = model.components_[i].argsort()[:-n_top_words - 1:-1]\n",
    "        words = [feat_names[key] for key in words_ids]\n",
    "        word_dict['Topic # ' + '{:02d}'.format(i+1)] = words\n",
    "    \n",
    "    return pd.DataFrame(word_dict)\n",
    "\n",
    "# print topic \n",
    "get_nmf_topics(plsa_model, 5)"
   ]
  },
  {
   "cell_type": "code",
   "execution_count": 100,
   "metadata": {
    "scrolled": true
   },
   "outputs": [
    {
     "data": {
      "text/html": [
       "<div>\n",
       "<style scoped>\n",
       "    .dataframe tbody tr th:only-of-type {\n",
       "        vertical-align: middle;\n",
       "    }\n",
       "\n",
       "    .dataframe tbody tr th {\n",
       "        vertical-align: top;\n",
       "    }\n",
       "\n",
       "    .dataframe thead th {\n",
       "        text-align: right;\n",
       "    }\n",
       "</style>\n",
       "<table border=\"1\" class=\"dataframe\">\n",
       "  <thead>\n",
       "    <tr style=\"text-align: right;\">\n",
       "      <th></th>\n",
       "      <th>Topic # 01</th>\n",
       "      <th>Topic # 02</th>\n",
       "      <th>Topic # 03</th>\n",
       "      <th>Topic # 04</th>\n",
       "    </tr>\n",
       "  </thead>\n",
       "  <tbody>\n",
       "    <tr>\n",
       "      <th>0</th>\n",
       "      <td>love</td>\n",
       "      <td>everything</td>\n",
       "      <td>app</td>\n",
       "      <td>camera</td>\n",
       "    </tr>\n",
       "    <tr>\n",
       "      <th>1</th>\n",
       "      <td>print</td>\n",
       "      <td>hop</td>\n",
       "      <td>work</td>\n",
       "      <td>look</td>\n",
       "    </tr>\n",
       "    <tr>\n",
       "      <th>2</th>\n",
       "      <td>ability</td>\n",
       "      <td>offer</td>\n",
       "      <td>screen</td>\n",
       "      <td>household</td>\n",
       "    </tr>\n",
       "    <tr>\n",
       "      <th>3</th>\n",
       "      <td>option</td>\n",
       "      <td>money</td>\n",
       "      <td>need</td>\n",
       "      <td>take</td>\n",
       "    </tr>\n",
       "    <tr>\n",
       "      <th>4</th>\n",
       "      <td>woman</td>\n",
       "      <td>own</td>\n",
       "      <td>graphic</td>\n",
       "      <td>picture</td>\n",
       "    </tr>\n",
       "  </tbody>\n",
       "</table>\n",
       "</div>"
      ],
      "text/plain": [
       "  Topic # 01  Topic # 02 Topic # 03 Topic # 04\n",
       "0       love  everything        app     camera\n",
       "1      print         hop       work       look\n",
       "2    ability       offer     screen  household\n",
       "3     option       money       need       take\n",
       "4      woman         own    graphic    picture"
      ]
     },
     "execution_count": 100,
     "metadata": {},
     "output_type": "execute_result"
    }
   ],
   "source": [
    "# print topic \n",
    "get_nmf_topics(model, 5)"
   ]
  },
  {
   "cell_type": "code",
   "execution_count": 102,
   "metadata": {},
   "outputs": [
    {
     "data": {
      "text/html": [
       "<div>\n",
       "<style scoped>\n",
       "    .dataframe tbody tr th:only-of-type {\n",
       "        vertical-align: middle;\n",
       "    }\n",
       "\n",
       "    .dataframe tbody tr th {\n",
       "        vertical-align: top;\n",
       "    }\n",
       "\n",
       "    .dataframe thead th {\n",
       "        text-align: right;\n",
       "    }\n",
       "</style>\n",
       "<table border=\"1\" class=\"dataframe\">\n",
       "  <thead>\n",
       "    <tr style=\"text-align: right;\">\n",
       "      <th></th>\n",
       "      <th>Topic # 01</th>\n",
       "      <th>Topic # 02</th>\n",
       "      <th>Topic # 03</th>\n",
       "      <th>Topic # 04</th>\n",
       "    </tr>\n",
       "  </thead>\n",
       "  <tbody>\n",
       "    <tr>\n",
       "      <th>0</th>\n",
       "      <td>love</td>\n",
       "      <td>everything</td>\n",
       "      <td>read</td>\n",
       "      <td>camera</td>\n",
       "    </tr>\n",
       "    <tr>\n",
       "      <th>1</th>\n",
       "      <td>print</td>\n",
       "      <td>hop</td>\n",
       "      <td>gift</td>\n",
       "      <td>look</td>\n",
       "    </tr>\n",
       "    <tr>\n",
       "      <th>2</th>\n",
       "      <td>think</td>\n",
       "      <td>offer</td>\n",
       "      <td>buy</td>\n",
       "      <td>want</td>\n",
       "    </tr>\n",
       "    <tr>\n",
       "      <th>3</th>\n",
       "      <td>recommend</td>\n",
       "      <td>money</td>\n",
       "      <td>use</td>\n",
       "      <td>price</td>\n",
       "    </tr>\n",
       "    <tr>\n",
       "      <th>4</th>\n",
       "      <td>book</td>\n",
       "      <td>own</td>\n",
       "      <td>book</td>\n",
       "      <td>picture</td>\n",
       "    </tr>\n",
       "    <tr>\n",
       "      <th>5</th>\n",
       "      <td>wait</td>\n",
       "      <td>ne</td>\n",
       "      <td>christma</td>\n",
       "      <td>household</td>\n",
       "    </tr>\n",
       "    <tr>\n",
       "      <th>6</th>\n",
       "      <td>ability</td>\n",
       "      <td>hdx</td>\n",
       "      <td>product</td>\n",
       "      <td>take</td>\n",
       "    </tr>\n",
       "    <tr>\n",
       "      <th>7</th>\n",
       "      <td>app</td>\n",
       "      <td>need</td>\n",
       "      <td>game</td>\n",
       "      <td>recommend</td>\n",
       "    </tr>\n",
       "    <tr>\n",
       "      <th>8</th>\n",
       "      <td>hdx</td>\n",
       "      <td>product</td>\n",
       "      <td>play</td>\n",
       "      <td>tablet</td>\n",
       "    </tr>\n",
       "    <tr>\n",
       "      <th>9</th>\n",
       "      <td>woman</td>\n",
       "      <td>sharpness</td>\n",
       "      <td>time</td>\n",
       "      <td>kid</td>\n",
       "    </tr>\n",
       "  </tbody>\n",
       "</table>\n",
       "</div>"
      ],
      "text/plain": [
       "  Topic # 01  Topic # 02 Topic # 03 Topic # 04\n",
       "0       love  everything       read     camera\n",
       "1      print         hop       gift       look\n",
       "2      think       offer        buy       want\n",
       "3  recommend       money        use      price\n",
       "4       book         own       book    picture\n",
       "5       wait          ne   christma  household\n",
       "6    ability         hdx    product       take\n",
       "7        app        need       game  recommend\n",
       "8        hdx     product       play     tablet\n",
       "9      woman   sharpness       time        kid"
      ]
     },
     "execution_count": 102,
     "metadata": {},
     "output_type": "execute_result"
    }
   ],
   "source": [
    "# print topic \n",
    "get_nmf_topics(plsa_model, 10)"
   ]
  },
  {
   "cell_type": "code",
   "execution_count": 116,
   "metadata": {},
   "outputs": [
    {
     "data": {
      "text/html": [
       "<div>\n",
       "<style scoped>\n",
       "    .dataframe tbody tr th:only-of-type {\n",
       "        vertical-align: middle;\n",
       "    }\n",
       "\n",
       "    .dataframe tbody tr th {\n",
       "        vertical-align: top;\n",
       "    }\n",
       "\n",
       "    .dataframe thead th {\n",
       "        text-align: right;\n",
       "    }\n",
       "</style>\n",
       "<table border=\"1\" class=\"dataframe\">\n",
       "  <thead>\n",
       "    <tr style=\"text-align: right;\">\n",
       "      <th></th>\n",
       "      <th>product_id</th>\n",
       "      <th>star_rating</th>\n",
       "      <th>total_votes</th>\n",
       "      <th>helpful_votes</th>\n",
       "      <th>review_body</th>\n",
       "      <th>possentiment</th>\n",
       "      <th>neusentiment</th>\n",
       "      <th>negsentiment</th>\n",
       "      <th>reviews</th>\n",
       "    </tr>\n",
       "  </thead>\n",
       "  <tbody>\n",
       "    <tr>\n",
       "      <th>0</th>\n",
       "      <td>B0083PWAPW</td>\n",
       "      <td>4</td>\n",
       "      <td>0</td>\n",
       "      <td>0</td>\n",
       "      <td>not iPad but does everything iPad does for fra...</td>\n",
       "      <td>0.140</td>\n",
       "      <td>0.767</td>\n",
       "      <td>0.093</td>\n",
       "      <td>ipad everything ipad fraction price despite ne...</td>\n",
       "    </tr>\n",
       "    <tr>\n",
       "      <th>1</th>\n",
       "      <td>B00BWYRF7E</td>\n",
       "      <td>3</td>\n",
       "      <td>1</td>\n",
       "      <td>1</td>\n",
       "      <td>have been long time supporter Kindles and went...</td>\n",
       "      <td>0.153</td>\n",
       "      <td>0.754</td>\n",
       "      <td>0.093</td>\n",
       "      <td>long time supporter kindles went gen kindle fi...</td>\n",
       "    </tr>\n",
       "    <tr>\n",
       "      <th>2</th>\n",
       "      <td>B0083Q04IQ</td>\n",
       "      <td>5</td>\n",
       "      <td>0</td>\n",
       "      <td>0</td>\n",
       "      <td>the kindle almost best friend love love love h...</td>\n",
       "      <td>0.486</td>\n",
       "      <td>0.412</td>\n",
       "      <td>0.102</td>\n",
       "      <td>kindle almost best friend love love love hate ...</td>\n",
       "    </tr>\n",
       "    <tr>\n",
       "      <th>3</th>\n",
       "      <td>B0083PWAPW</td>\n",
       "      <td>1</td>\n",
       "      <td>1</td>\n",
       "      <td>1</td>\n",
       "      <td>with this product have owned this product for ...</td>\n",
       "      <td>0.162</td>\n",
       "      <td>0.686</td>\n",
       "      <td>0.152</td>\n",
       "      <td>product owned product less years longer works ...</td>\n",
       "    </tr>\n",
       "    <tr>\n",
       "      <th>4</th>\n",
       "      <td>B0051VVOB2</td>\n",
       "      <td>5</td>\n",
       "      <td>1</td>\n",
       "      <td>1</td>\n",
       "      <td>love the graphics first all love that have all...</td>\n",
       "      <td>0.291</td>\n",
       "      <td>0.709</td>\n",
       "      <td>0.000</td>\n",
       "      <td>love graphics first love books want read right...</td>\n",
       "    </tr>\n",
       "  </tbody>\n",
       "</table>\n",
       "</div>"
      ],
      "text/plain": [
       "   product_id  star_rating  total_votes  helpful_votes  \\\n",
       "0  B0083PWAPW            4            0              0   \n",
       "1  B00BWYRF7E            3            1              1   \n",
       "2  B0083Q04IQ            5            0              0   \n",
       "3  B0083PWAPW            1            1              1   \n",
       "4  B0051VVOB2            5            1              1   \n",
       "\n",
       "                                         review_body  possentiment  \\\n",
       "0  not iPad but does everything iPad does for fra...         0.140   \n",
       "1  have been long time supporter Kindles and went...         0.153   \n",
       "2  the kindle almost best friend love love love h...         0.486   \n",
       "3  with this product have owned this product for ...         0.162   \n",
       "4  love the graphics first all love that have all...         0.291   \n",
       "\n",
       "   neusentiment  negsentiment  \\\n",
       "0         0.767         0.093   \n",
       "1         0.754         0.093   \n",
       "2         0.412         0.102   \n",
       "3         0.686         0.152   \n",
       "4         0.709         0.000   \n",
       "\n",
       "                                             reviews  \n",
       "0  ipad everything ipad fraction price despite ne...  \n",
       "1  long time supporter kindles went gen kindle fi...  \n",
       "2  kindle almost best friend love love love hate ...  \n",
       "3  product owned product less years longer works ...  \n",
       "4  love graphics first love books want read right...  "
      ]
     },
     "execution_count": 116,
     "metadata": {},
     "output_type": "execute_result"
    }
   ],
   "source": [
    "reviews_df.head()"
   ]
  },
  {
   "cell_type": "code",
   "execution_count": 119,
   "metadata": {},
   "outputs": [],
   "source": [
    "reviews_df.to_csv('reviews_df.csv')"
   ]
  }
 ],
 "metadata": {
  "kernelspec": {
   "display_name": "Python 3",
   "language": "python",
   "name": "python3"
  },
  "language_info": {
   "codemirror_mode": {
    "name": "ipython",
    "version": 3
   },
   "file_extension": ".py",
   "mimetype": "text/x-python",
   "name": "python",
   "nbconvert_exporter": "python",
   "pygments_lexer": "ipython3",
   "version": "3.6.5"
  }
 },
 "nbformat": 4,
 "nbformat_minor": 2
}
